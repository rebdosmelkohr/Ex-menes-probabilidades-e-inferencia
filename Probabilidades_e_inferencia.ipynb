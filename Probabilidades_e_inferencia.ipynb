{
  "nbformat": 4,
  "nbformat_minor": 0,
  "metadata": {
    "colab": {
      "provenance": []
    },
    "kernelspec": {
      "name": "python3",
      "display_name": "Python 3"
    },
    "language_info": {
      "name": "python"
    }
  },
  "cells": [
    {
      "cell_type": "markdown",
      "source": [
        "Examen Final: Semana 0 - Estadística Descriptiva Estratégica\n",
        "\n",
        "**Caso de Estudio: FinTechValpo**\n",
        "\n",
        "Eres el Analista Principal de Business Intelligence para \"FinTechValpo\", una startup chilena que ofrece dos planes de suscripción para su plataforma de gestión financiera:\n",
        "\n",
        "Plan \"Standard\": Un plan básico y económico.\n",
        "\n",
        "Plan \"Premium\": Un plan más caro con funcionalidades avanzadas.\n",
        "\n",
        "La gerencia te ha encargado analizar los datos de rendimiento de ambos planes para tomar decisiones estratégicas clave para el próximo trimestre."
      ],
      "metadata": {
        "id": "wvKT-M2ulyi7"
      }
    },
    {
      "cell_type": "code",
      "execution_count": 1,
      "metadata": {
        "id": "LkyWNvkvlXLl"
      },
      "outputs": [],
      "source": [
        "# Conjunto de datos:\n",
        "import pandas as pd\n",
        "import numpy as np\n",
        "\n",
        "# Semilla para reproducibilidad\n",
        "np.random.seed(42)\n",
        "\n",
        "# Datos del Plan Standard\n",
        "n_standard = 200\n",
        "standard_revenue = np.random.normal(loc=10000, scale=1000, size=n_standard).astype(int)\n",
        "standard_sessions = np.random.poisson(lam=15, size=n_standard)\n",
        "standard_satisfaction = np.random.normal(loc=5.5, scale=0.8, size=n_standard).clip(1, 10)\n",
        "\n",
        "# Datos del Plan Premium\n",
        "n_premium = 80\n",
        "# Ingresos con outliers (clientes 'ballena')\n",
        "premium_revenue = np.random.normal(loc=35000, scale=8000, size=n_premium).astype(int)\n",
        "premium_revenue[5:8] = np.random.normal(loc=150000, scale=20000, size=3).astype(int) # Outliers\n",
        "# Sesiones con asimetría positiva (muchos poco activos, pocos 'power users')\n",
        "premium_sessions = np.random.gamma(shape=2, scale=10, size=n_premium).astype(int) + 5\n",
        "# Satisfacción polarizada\n",
        "premium_satisfaction_low = np.random.normal(loc=4, scale=1, size=n_premium//2)\n",
        "premium_satisfaction_high = np.random.normal(loc=9, scale=0.5, size=n_premium//2)\n",
        "premium_satisfaction = np.concatenate([premium_satisfaction_low, premium_satisfaction_high]).clip(1,10)\n",
        "\n",
        "\n",
        "# Crear DataFrame\n",
        "df_standard = pd.DataFrame({\n",
        "    'plan_type': 'Standard',\n",
        "    'monthly_revenue_clp': standard_revenue,\n",
        "    'sessions_per_month': standard_sessions,\n",
        "    'satisfaction_score': standard_satisfaction\n",
        "})\n",
        "\n",
        "df_premium = pd.DataFrame({\n",
        "    'plan_type': 'Premium',\n",
        "    'monthly_revenue_clp': premium_revenue,\n",
        "    'sessions_per_month': premium_sessions,\n",
        "    'satisfaction_score': premium_satisfaction\n",
        "})\n",
        "\n",
        "df = pd.concat([df_standard, df_premium], ignore_index=True)\n",
        "\n",
        "# Mezclar aleatoriamente el dataframe\n",
        "df = df.sample(frac=1, random_state=42).reset_index(drop=True)"
      ]
    },
    {
      "cell_type": "markdown",
      "source": [
        "Preguntas del Examen\n",
        "Pregunta 1: El Dilema de la Rentabilidad (3 Puntos)\n",
        "\n",
        "La gerencia te pregunta: \"¿Qué plan es más rentable y en cuál deberíamos enfocar nuestros esfuerzos de marketing?\". Un análisis superficial podría ser engañoso.\n",
        "\n",
        "a) Calcula la media y la mediana de los ingresos mensuales (monthly_revenue_clp) para cada tipo de plan.\n",
        "\n",
        "b) ¿Cuál de estas dos métricas (media o mediana) crees que representa de forma más fidedigna la \"rentabilidad típica\" de un cliente en cada plan? Justifica tu respuesta basándote en la posible forma de la distribución de los datos.\n",
        "\n",
        "c) Calcula la desviación estándar y el coeficiente de variación (CV) para los ingresos de cada plan. ¿Qué nos dice el CV sobre el riesgo o la predictibilidad de los ingresos de cada plan?\n",
        "\n",
        "d) Basado en tu análisis completo (a, b, c), ¿qué plan recomendarías para una campaña de marketing que busca crecimiento estable y predecible? ¿Y si la campaña busca maximizar el ingreso potencial a pesar del riesgo?"
      ],
      "metadata": {
        "id": "GoTqJrT7nMuT"
      }
    },
    {
      "cell_type": "code",
      "source": [
        "df.info()"
      ],
      "metadata": {
        "colab": {
          "base_uri": "https://localhost:8080/"
        },
        "id": "1hd1FLWenHKU",
        "outputId": "4b695eb0-500f-449d-f2fb-364a31770dda"
      },
      "execution_count": 5,
      "outputs": [
        {
          "output_type": "stream",
          "name": "stdout",
          "text": [
            "<class 'pandas.core.frame.DataFrame'>\n",
            "RangeIndex: 280 entries, 0 to 279\n",
            "Data columns (total 4 columns):\n",
            " #   Column               Non-Null Count  Dtype  \n",
            "---  ------               --------------  -----  \n",
            " 0   plan_type            280 non-null    object \n",
            " 1   monthly_revenue_clp  280 non-null    int64  \n",
            " 2   sessions_per_month   280 non-null    int64  \n",
            " 3   satisfaction_score   280 non-null    float64\n",
            "dtypes: float64(1), int64(2), object(1)\n",
            "memory usage: 8.9+ KB\n"
          ]
        }
      ]
    },
    {
      "cell_type": "code",
      "source": [
        "df.head(5)"
      ],
      "metadata": {
        "colab": {
          "base_uri": "https://localhost:8080/",
          "height": 206
        },
        "id": "yLTgt88DneFC",
        "outputId": "151ce2f9-62a7-4361-cad9-91dcb7809e40"
      },
      "execution_count": 6,
      "outputs": [
        {
          "output_type": "execute_result",
          "data": {
            "text/plain": [
              "  plan_type  monthly_revenue_clp  sessions_per_month  satisfaction_score\n",
              "0  Standard                 8942                  14            5.158495\n",
              "1  Standard                10257                  16            3.834456\n",
              "2   Premium                34604                  19            8.664188\n",
              "3   Premium                40063                  38            9.498133\n",
              "4  Standard                10293                   9            4.740481"
            ],
            "text/html": [
              "\n",
              "  <div id=\"df-4c4209ee-5389-4b9d-a187-7a116cf8f092\" class=\"colab-df-container\">\n",
              "    <div>\n",
              "<style scoped>\n",
              "    .dataframe tbody tr th:only-of-type {\n",
              "        vertical-align: middle;\n",
              "    }\n",
              "\n",
              "    .dataframe tbody tr th {\n",
              "        vertical-align: top;\n",
              "    }\n",
              "\n",
              "    .dataframe thead th {\n",
              "        text-align: right;\n",
              "    }\n",
              "</style>\n",
              "<table border=\"1\" class=\"dataframe\">\n",
              "  <thead>\n",
              "    <tr style=\"text-align: right;\">\n",
              "      <th></th>\n",
              "      <th>plan_type</th>\n",
              "      <th>monthly_revenue_clp</th>\n",
              "      <th>sessions_per_month</th>\n",
              "      <th>satisfaction_score</th>\n",
              "    </tr>\n",
              "  </thead>\n",
              "  <tbody>\n",
              "    <tr>\n",
              "      <th>0</th>\n",
              "      <td>Standard</td>\n",
              "      <td>8942</td>\n",
              "      <td>14</td>\n",
              "      <td>5.158495</td>\n",
              "    </tr>\n",
              "    <tr>\n",
              "      <th>1</th>\n",
              "      <td>Standard</td>\n",
              "      <td>10257</td>\n",
              "      <td>16</td>\n",
              "      <td>3.834456</td>\n",
              "    </tr>\n",
              "    <tr>\n",
              "      <th>2</th>\n",
              "      <td>Premium</td>\n",
              "      <td>34604</td>\n",
              "      <td>19</td>\n",
              "      <td>8.664188</td>\n",
              "    </tr>\n",
              "    <tr>\n",
              "      <th>3</th>\n",
              "      <td>Premium</td>\n",
              "      <td>40063</td>\n",
              "      <td>38</td>\n",
              "      <td>9.498133</td>\n",
              "    </tr>\n",
              "    <tr>\n",
              "      <th>4</th>\n",
              "      <td>Standard</td>\n",
              "      <td>10293</td>\n",
              "      <td>9</td>\n",
              "      <td>4.740481</td>\n",
              "    </tr>\n",
              "  </tbody>\n",
              "</table>\n",
              "</div>\n",
              "    <div class=\"colab-df-buttons\">\n",
              "\n",
              "  <div class=\"colab-df-container\">\n",
              "    <button class=\"colab-df-convert\" onclick=\"convertToInteractive('df-4c4209ee-5389-4b9d-a187-7a116cf8f092')\"\n",
              "            title=\"Convert this dataframe to an interactive table.\"\n",
              "            style=\"display:none;\">\n",
              "\n",
              "  <svg xmlns=\"http://www.w3.org/2000/svg\" height=\"24px\" viewBox=\"0 -960 960 960\">\n",
              "    <path d=\"M120-120v-720h720v720H120Zm60-500h600v-160H180v160Zm220 220h160v-160H400v160Zm0 220h160v-160H400v160ZM180-400h160v-160H180v160Zm440 0h160v-160H620v160ZM180-180h160v-160H180v160Zm440 0h160v-160H620v160Z\"/>\n",
              "  </svg>\n",
              "    </button>\n",
              "\n",
              "  <style>\n",
              "    .colab-df-container {\n",
              "      display:flex;\n",
              "      gap: 12px;\n",
              "    }\n",
              "\n",
              "    .colab-df-convert {\n",
              "      background-color: #E8F0FE;\n",
              "      border: none;\n",
              "      border-radius: 50%;\n",
              "      cursor: pointer;\n",
              "      display: none;\n",
              "      fill: #1967D2;\n",
              "      height: 32px;\n",
              "      padding: 0 0 0 0;\n",
              "      width: 32px;\n",
              "    }\n",
              "\n",
              "    .colab-df-convert:hover {\n",
              "      background-color: #E2EBFA;\n",
              "      box-shadow: 0px 1px 2px rgba(60, 64, 67, 0.3), 0px 1px 3px 1px rgba(60, 64, 67, 0.15);\n",
              "      fill: #174EA6;\n",
              "    }\n",
              "\n",
              "    .colab-df-buttons div {\n",
              "      margin-bottom: 4px;\n",
              "    }\n",
              "\n",
              "    [theme=dark] .colab-df-convert {\n",
              "      background-color: #3B4455;\n",
              "      fill: #D2E3FC;\n",
              "    }\n",
              "\n",
              "    [theme=dark] .colab-df-convert:hover {\n",
              "      background-color: #434B5C;\n",
              "      box-shadow: 0px 1px 3px 1px rgba(0, 0, 0, 0.15);\n",
              "      filter: drop-shadow(0px 1px 2px rgba(0, 0, 0, 0.3));\n",
              "      fill: #FFFFFF;\n",
              "    }\n",
              "  </style>\n",
              "\n",
              "    <script>\n",
              "      const buttonEl =\n",
              "        document.querySelector('#df-4c4209ee-5389-4b9d-a187-7a116cf8f092 button.colab-df-convert');\n",
              "      buttonEl.style.display =\n",
              "        google.colab.kernel.accessAllowed ? 'block' : 'none';\n",
              "\n",
              "      async function convertToInteractive(key) {\n",
              "        const element = document.querySelector('#df-4c4209ee-5389-4b9d-a187-7a116cf8f092');\n",
              "        const dataTable =\n",
              "          await google.colab.kernel.invokeFunction('convertToInteractive',\n",
              "                                                    [key], {});\n",
              "        if (!dataTable) return;\n",
              "\n",
              "        const docLinkHtml = 'Like what you see? Visit the ' +\n",
              "          '<a target=\"_blank\" href=https://colab.research.google.com/notebooks/data_table.ipynb>data table notebook</a>'\n",
              "          + ' to learn more about interactive tables.';\n",
              "        element.innerHTML = '';\n",
              "        dataTable['output_type'] = 'display_data';\n",
              "        await google.colab.output.renderOutput(dataTable, element);\n",
              "        const docLink = document.createElement('div');\n",
              "        docLink.innerHTML = docLinkHtml;\n",
              "        element.appendChild(docLink);\n",
              "      }\n",
              "    </script>\n",
              "  </div>\n",
              "\n",
              "\n",
              "    <div id=\"df-b574bfec-57d5-48c5-85c8-8906f9f998e4\">\n",
              "      <button class=\"colab-df-quickchart\" onclick=\"quickchart('df-b574bfec-57d5-48c5-85c8-8906f9f998e4')\"\n",
              "                title=\"Suggest charts\"\n",
              "                style=\"display:none;\">\n",
              "\n",
              "<svg xmlns=\"http://www.w3.org/2000/svg\" height=\"24px\"viewBox=\"0 0 24 24\"\n",
              "     width=\"24px\">\n",
              "    <g>\n",
              "        <path d=\"M19 3H5c-1.1 0-2 .9-2 2v14c0 1.1.9 2 2 2h14c1.1 0 2-.9 2-2V5c0-1.1-.9-2-2-2zM9 17H7v-7h2v7zm4 0h-2V7h2v10zm4 0h-2v-4h2v4z\"/>\n",
              "    </g>\n",
              "</svg>\n",
              "      </button>\n",
              "\n",
              "<style>\n",
              "  .colab-df-quickchart {\n",
              "      --bg-color: #E8F0FE;\n",
              "      --fill-color: #1967D2;\n",
              "      --hover-bg-color: #E2EBFA;\n",
              "      --hover-fill-color: #174EA6;\n",
              "      --disabled-fill-color: #AAA;\n",
              "      --disabled-bg-color: #DDD;\n",
              "  }\n",
              "\n",
              "  [theme=dark] .colab-df-quickchart {\n",
              "      --bg-color: #3B4455;\n",
              "      --fill-color: #D2E3FC;\n",
              "      --hover-bg-color: #434B5C;\n",
              "      --hover-fill-color: #FFFFFF;\n",
              "      --disabled-bg-color: #3B4455;\n",
              "      --disabled-fill-color: #666;\n",
              "  }\n",
              "\n",
              "  .colab-df-quickchart {\n",
              "    background-color: var(--bg-color);\n",
              "    border: none;\n",
              "    border-radius: 50%;\n",
              "    cursor: pointer;\n",
              "    display: none;\n",
              "    fill: var(--fill-color);\n",
              "    height: 32px;\n",
              "    padding: 0;\n",
              "    width: 32px;\n",
              "  }\n",
              "\n",
              "  .colab-df-quickchart:hover {\n",
              "    background-color: var(--hover-bg-color);\n",
              "    box-shadow: 0 1px 2px rgba(60, 64, 67, 0.3), 0 1px 3px 1px rgba(60, 64, 67, 0.15);\n",
              "    fill: var(--button-hover-fill-color);\n",
              "  }\n",
              "\n",
              "  .colab-df-quickchart-complete:disabled,\n",
              "  .colab-df-quickchart-complete:disabled:hover {\n",
              "    background-color: var(--disabled-bg-color);\n",
              "    fill: var(--disabled-fill-color);\n",
              "    box-shadow: none;\n",
              "  }\n",
              "\n",
              "  .colab-df-spinner {\n",
              "    border: 2px solid var(--fill-color);\n",
              "    border-color: transparent;\n",
              "    border-bottom-color: var(--fill-color);\n",
              "    animation:\n",
              "      spin 1s steps(1) infinite;\n",
              "  }\n",
              "\n",
              "  @keyframes spin {\n",
              "    0% {\n",
              "      border-color: transparent;\n",
              "      border-bottom-color: var(--fill-color);\n",
              "      border-left-color: var(--fill-color);\n",
              "    }\n",
              "    20% {\n",
              "      border-color: transparent;\n",
              "      border-left-color: var(--fill-color);\n",
              "      border-top-color: var(--fill-color);\n",
              "    }\n",
              "    30% {\n",
              "      border-color: transparent;\n",
              "      border-left-color: var(--fill-color);\n",
              "      border-top-color: var(--fill-color);\n",
              "      border-right-color: var(--fill-color);\n",
              "    }\n",
              "    40% {\n",
              "      border-color: transparent;\n",
              "      border-right-color: var(--fill-color);\n",
              "      border-top-color: var(--fill-color);\n",
              "    }\n",
              "    60% {\n",
              "      border-color: transparent;\n",
              "      border-right-color: var(--fill-color);\n",
              "    }\n",
              "    80% {\n",
              "      border-color: transparent;\n",
              "      border-right-color: var(--fill-color);\n",
              "      border-bottom-color: var(--fill-color);\n",
              "    }\n",
              "    90% {\n",
              "      border-color: transparent;\n",
              "      border-bottom-color: var(--fill-color);\n",
              "    }\n",
              "  }\n",
              "</style>\n",
              "\n",
              "      <script>\n",
              "        async function quickchart(key) {\n",
              "          const quickchartButtonEl =\n",
              "            document.querySelector('#' + key + ' button');\n",
              "          quickchartButtonEl.disabled = true;  // To prevent multiple clicks.\n",
              "          quickchartButtonEl.classList.add('colab-df-spinner');\n",
              "          try {\n",
              "            const charts = await google.colab.kernel.invokeFunction(\n",
              "                'suggestCharts', [key], {});\n",
              "          } catch (error) {\n",
              "            console.error('Error during call to suggestCharts:', error);\n",
              "          }\n",
              "          quickchartButtonEl.classList.remove('colab-df-spinner');\n",
              "          quickchartButtonEl.classList.add('colab-df-quickchart-complete');\n",
              "        }\n",
              "        (() => {\n",
              "          let quickchartButtonEl =\n",
              "            document.querySelector('#df-b574bfec-57d5-48c5-85c8-8906f9f998e4 button');\n",
              "          quickchartButtonEl.style.display =\n",
              "            google.colab.kernel.accessAllowed ? 'block' : 'none';\n",
              "        })();\n",
              "      </script>\n",
              "    </div>\n",
              "\n",
              "    </div>\n",
              "  </div>\n"
            ],
            "application/vnd.google.colaboratory.intrinsic+json": {
              "type": "dataframe",
              "variable_name": "df",
              "summary": "{\n  \"name\": \"df\",\n  \"rows\": 280,\n  \"fields\": [\n    {\n      \"column\": \"plan_type\",\n      \"properties\": {\n        \"dtype\": \"category\",\n        \"num_unique_values\": 2,\n        \"samples\": [\n          \"Premium\",\n          \"Standard\"\n        ],\n        \"semantic_type\": \"\",\n        \"description\": \"\"\n      }\n    },\n    {\n      \"column\": \"monthly_revenue_clp\",\n      \"properties\": {\n        \"dtype\": \"number\",\n        \"std\": 19446,\n        \"min\": 7380,\n        \"max\": 200538,\n        \"num_unique_values\": 272,\n        \"samples\": [\n          9280,\n          9110\n        ],\n        \"semantic_type\": \"\",\n        \"description\": \"\"\n      }\n    },\n    {\n      \"column\": \"sessions_per_month\",\n      \"properties\": {\n        \"dtype\": \"number\",\n        \"std\": 8,\n        \"min\": 4,\n        \"max\": 75,\n        \"num_unique_values\": 40,\n        \"samples\": [\n          21,\n          8\n        ],\n        \"semantic_type\": \"\",\n        \"description\": \"\"\n      }\n    },\n    {\n      \"column\": \"satisfaction_score\",\n      \"properties\": {\n        \"dtype\": \"number\",\n        \"std\": 1.5913720644699292,\n        \"min\": 2.3314159261224106,\n        \"max\": 10.0,\n        \"num_unique_values\": 280,\n        \"samples\": [\n          4.399223122605279,\n          5.620241409169502\n        ],\n        \"semantic_type\": \"\",\n        \"description\": \"\"\n      }\n    }\n  ]\n}"
            }
          },
          "metadata": {},
          "execution_count": 6
        }
      ]
    },
    {
      "cell_type": "code",
      "source": [
        "# promedio por tipo de plan\n",
        "df['plan_type']"
      ],
      "metadata": {
        "colab": {
          "base_uri": "https://localhost:8080/",
          "height": 458
        },
        "id": "Na8Z1iLgniBE",
        "outputId": "90874030-1b3a-4ae3-efb5-0e76841cfe8f"
      },
      "execution_count": 7,
      "outputs": [
        {
          "output_type": "execute_result",
          "data": {
            "text/plain": [
              "0      Standard\n",
              "1      Standard\n",
              "2       Premium\n",
              "3       Premium\n",
              "4      Standard\n",
              "         ...   \n",
              "275    Standard\n",
              "276    Standard\n",
              "277    Standard\n",
              "278     Premium\n",
              "279    Standard\n",
              "Name: plan_type, Length: 280, dtype: object"
            ],
            "text/html": [
              "<div>\n",
              "<style scoped>\n",
              "    .dataframe tbody tr th:only-of-type {\n",
              "        vertical-align: middle;\n",
              "    }\n",
              "\n",
              "    .dataframe tbody tr th {\n",
              "        vertical-align: top;\n",
              "    }\n",
              "\n",
              "    .dataframe thead th {\n",
              "        text-align: right;\n",
              "    }\n",
              "</style>\n",
              "<table border=\"1\" class=\"dataframe\">\n",
              "  <thead>\n",
              "    <tr style=\"text-align: right;\">\n",
              "      <th></th>\n",
              "      <th>plan_type</th>\n",
              "    </tr>\n",
              "  </thead>\n",
              "  <tbody>\n",
              "    <tr>\n",
              "      <th>0</th>\n",
              "      <td>Standard</td>\n",
              "    </tr>\n",
              "    <tr>\n",
              "      <th>1</th>\n",
              "      <td>Standard</td>\n",
              "    </tr>\n",
              "    <tr>\n",
              "      <th>2</th>\n",
              "      <td>Premium</td>\n",
              "    </tr>\n",
              "    <tr>\n",
              "      <th>3</th>\n",
              "      <td>Premium</td>\n",
              "    </tr>\n",
              "    <tr>\n",
              "      <th>4</th>\n",
              "      <td>Standard</td>\n",
              "    </tr>\n",
              "    <tr>\n",
              "      <th>...</th>\n",
              "      <td>...</td>\n",
              "    </tr>\n",
              "    <tr>\n",
              "      <th>275</th>\n",
              "      <td>Standard</td>\n",
              "    </tr>\n",
              "    <tr>\n",
              "      <th>276</th>\n",
              "      <td>Standard</td>\n",
              "    </tr>\n",
              "    <tr>\n",
              "      <th>277</th>\n",
              "      <td>Standard</td>\n",
              "    </tr>\n",
              "    <tr>\n",
              "      <th>278</th>\n",
              "      <td>Premium</td>\n",
              "    </tr>\n",
              "    <tr>\n",
              "      <th>279</th>\n",
              "      <td>Standard</td>\n",
              "    </tr>\n",
              "  </tbody>\n",
              "</table>\n",
              "<p>280 rows × 1 columns</p>\n",
              "</div><br><label><b>dtype:</b> object</label>"
            ]
          },
          "metadata": {},
          "execution_count": 7
        }
      ]
    },
    {
      "cell_type": "code",
      "metadata": {
        "colab": {
          "base_uri": "https://localhost:8080/",
          "height": 143
        },
        "id": "02ac8a52",
        "outputId": "c23b0846-caeb-40f3-dd8d-486cd5df1156"
      },
      "source": [
        "# a) Calcula la media y la mediana de los ingresos mensuales (monthly_revenue_clp) para cada tipo de plan.\n",
        "revenue_stats = df.groupby('plan_type')['monthly_revenue_clp'].agg(['mean', 'median'])\n",
        "display(revenue_stats)"
      ],
      "execution_count": 8,
      "outputs": [
        {
          "output_type": "display_data",
          "data": {
            "text/plain": [
              "                 mean   median\n",
              "plan_type                     \n",
              "Premium    40735.0875  35263.0\n",
              "Standard    9958.7450   9995.5"
            ],
            "text/html": [
              "\n",
              "  <div id=\"df-3c5d6d8a-3831-436c-a16a-c4a0daa9dd54\" class=\"colab-df-container\">\n",
              "    <div>\n",
              "<style scoped>\n",
              "    .dataframe tbody tr th:only-of-type {\n",
              "        vertical-align: middle;\n",
              "    }\n",
              "\n",
              "    .dataframe tbody tr th {\n",
              "        vertical-align: top;\n",
              "    }\n",
              "\n",
              "    .dataframe thead th {\n",
              "        text-align: right;\n",
              "    }\n",
              "</style>\n",
              "<table border=\"1\" class=\"dataframe\">\n",
              "  <thead>\n",
              "    <tr style=\"text-align: right;\">\n",
              "      <th></th>\n",
              "      <th>mean</th>\n",
              "      <th>median</th>\n",
              "    </tr>\n",
              "    <tr>\n",
              "      <th>plan_type</th>\n",
              "      <th></th>\n",
              "      <th></th>\n",
              "    </tr>\n",
              "  </thead>\n",
              "  <tbody>\n",
              "    <tr>\n",
              "      <th>Premium</th>\n",
              "      <td>40735.0875</td>\n",
              "      <td>35263.0</td>\n",
              "    </tr>\n",
              "    <tr>\n",
              "      <th>Standard</th>\n",
              "      <td>9958.7450</td>\n",
              "      <td>9995.5</td>\n",
              "    </tr>\n",
              "  </tbody>\n",
              "</table>\n",
              "</div>\n",
              "    <div class=\"colab-df-buttons\">\n",
              "\n",
              "  <div class=\"colab-df-container\">\n",
              "    <button class=\"colab-df-convert\" onclick=\"convertToInteractive('df-3c5d6d8a-3831-436c-a16a-c4a0daa9dd54')\"\n",
              "            title=\"Convert this dataframe to an interactive table.\"\n",
              "            style=\"display:none;\">\n",
              "\n",
              "  <svg xmlns=\"http://www.w3.org/2000/svg\" height=\"24px\" viewBox=\"0 -960 960 960\">\n",
              "    <path d=\"M120-120v-720h720v720H120Zm60-500h600v-160H180v160Zm220 220h160v-160H400v160Zm0 220h160v-160H400v160ZM180-400h160v-160H180v160Zm440 0h160v-160H620v160ZM180-180h160v-160H180v160Zm440 0h160v-160H620v160Z\"/>\n",
              "  </svg>\n",
              "    </button>\n",
              "\n",
              "  <style>\n",
              "    .colab-df-container {\n",
              "      display:flex;\n",
              "      gap: 12px;\n",
              "    }\n",
              "\n",
              "    .colab-df-convert {\n",
              "      background-color: #E8F0FE;\n",
              "      border: none;\n",
              "      border-radius: 50%;\n",
              "      cursor: pointer;\n",
              "      display: none;\n",
              "      fill: #1967D2;\n",
              "      height: 32px;\n",
              "      padding: 0 0 0 0;\n",
              "      width: 32px;\n",
              "    }\n",
              "\n",
              "    .colab-df-convert:hover {\n",
              "      background-color: #E2EBFA;\n",
              "      box-shadow: 0px 1px 2px rgba(60, 64, 67, 0.3), 0px 1px 3px 1px rgba(60, 64, 67, 0.15);\n",
              "      fill: #174EA6;\n",
              "    }\n",
              "\n",
              "    .colab-df-buttons div {\n",
              "      margin-bottom: 4px;\n",
              "    }\n",
              "\n",
              "    [theme=dark] .colab-df-convert {\n",
              "      background-color: #3B4455;\n",
              "      fill: #D2E3FC;\n",
              "    }\n",
              "\n",
              "    [theme=dark] .colab-df-convert:hover {\n",
              "      background-color: #434B5C;\n",
              "      box-shadow: 0px 1px 3px 1px rgba(0, 0, 0, 0.15);\n",
              "      filter: drop-shadow(0px 1px 2px rgba(0, 0, 0, 0.3));\n",
              "      fill: #FFFFFF;\n",
              "    }\n",
              "  </style>\n",
              "\n",
              "    <script>\n",
              "      const buttonEl =\n",
              "        document.querySelector('#df-3c5d6d8a-3831-436c-a16a-c4a0daa9dd54 button.colab-df-convert');\n",
              "      buttonEl.style.display =\n",
              "        google.colab.kernel.accessAllowed ? 'block' : 'none';\n",
              "\n",
              "      async function convertToInteractive(key) {\n",
              "        const element = document.querySelector('#df-3c5d6d8a-3831-436c-a16a-c4a0daa9dd54');\n",
              "        const dataTable =\n",
              "          await google.colab.kernel.invokeFunction('convertToInteractive',\n",
              "                                                    [key], {});\n",
              "        if (!dataTable) return;\n",
              "\n",
              "        const docLinkHtml = 'Like what you see? Visit the ' +\n",
              "          '<a target=\"_blank\" href=https://colab.research.google.com/notebooks/data_table.ipynb>data table notebook</a>'\n",
              "          + ' to learn more about interactive tables.';\n",
              "        element.innerHTML = '';\n",
              "        dataTable['output_type'] = 'display_data';\n",
              "        await google.colab.output.renderOutput(dataTable, element);\n",
              "        const docLink = document.createElement('div');\n",
              "        docLink.innerHTML = docLinkHtml;\n",
              "        element.appendChild(docLink);\n",
              "      }\n",
              "    </script>\n",
              "  </div>\n",
              "\n",
              "\n",
              "    <div id=\"df-b2dd7112-068a-4faa-aa6b-61e3f897efa7\">\n",
              "      <button class=\"colab-df-quickchart\" onclick=\"quickchart('df-b2dd7112-068a-4faa-aa6b-61e3f897efa7')\"\n",
              "                title=\"Suggest charts\"\n",
              "                style=\"display:none;\">\n",
              "\n",
              "<svg xmlns=\"http://www.w3.org/2000/svg\" height=\"24px\"viewBox=\"0 0 24 24\"\n",
              "     width=\"24px\">\n",
              "    <g>\n",
              "        <path d=\"M19 3H5c-1.1 0-2 .9-2 2v14c0 1.1.9 2 2 2h14c1.1 0 2-.9 2-2V5c0-1.1-.9-2-2-2zM9 17H7v-7h2v7zm4 0h-2V7h2v10zm4 0h-2v-4h2v4z\"/>\n",
              "    </g>\n",
              "</svg>\n",
              "      </button>\n",
              "\n",
              "<style>\n",
              "  .colab-df-quickchart {\n",
              "      --bg-color: #E8F0FE;\n",
              "      --fill-color: #1967D2;\n",
              "      --hover-bg-color: #E2EBFA;\n",
              "      --hover-fill-color: #174EA6;\n",
              "      --disabled-fill-color: #AAA;\n",
              "      --disabled-bg-color: #DDD;\n",
              "  }\n",
              "\n",
              "  [theme=dark] .colab-df-quickchart {\n",
              "      --bg-color: #3B4455;\n",
              "      --fill-color: #D2E3FC;\n",
              "      --hover-bg-color: #434B5C;\n",
              "      --hover-fill-color: #FFFFFF;\n",
              "      --disabled-bg-color: #3B4455;\n",
              "      --disabled-fill-color: #666;\n",
              "  }\n",
              "\n",
              "  .colab-df-quickchart {\n",
              "    background-color: var(--bg-color);\n",
              "    border: none;\n",
              "    border-radius: 50%;\n",
              "    cursor: pointer;\n",
              "    display: none;\n",
              "    fill: var(--fill-color);\n",
              "    height: 32px;\n",
              "    padding: 0;\n",
              "    width: 32px;\n",
              "  }\n",
              "\n",
              "  .colab-df-quickchart:hover {\n",
              "    background-color: var(--hover-bg-color);\n",
              "    box-shadow: 0 1px 2px rgba(60, 64, 67, 0.3), 0 1px 3px 1px rgba(60, 64, 67, 0.15);\n",
              "    fill: var(--button-hover-fill-color);\n",
              "  }\n",
              "\n",
              "  .colab-df-quickchart-complete:disabled,\n",
              "  .colab-df-quickchart-complete:disabled:hover {\n",
              "    background-color: var(--disabled-bg-color);\n",
              "    fill: var(--disabled-fill-color);\n",
              "    box-shadow: none;\n",
              "  }\n",
              "\n",
              "  .colab-df-spinner {\n",
              "    border: 2px solid var(--fill-color);\n",
              "    border-color: transparent;\n",
              "    border-bottom-color: var(--fill-color);\n",
              "    animation:\n",
              "      spin 1s steps(1) infinite;\n",
              "  }\n",
              "\n",
              "  @keyframes spin {\n",
              "    0% {\n",
              "      border-color: transparent;\n",
              "      border-bottom-color: var(--fill-color);\n",
              "      border-left-color: var(--fill-color);\n",
              "    }\n",
              "    20% {\n",
              "      border-color: transparent;\n",
              "      border-left-color: var(--fill-color);\n",
              "      border-top-color: var(--fill-color);\n",
              "    }\n",
              "    30% {\n",
              "      border-color: transparent;\n",
              "      border-left-color: var(--fill-color);\n",
              "      border-top-color: var(--fill-color);\n",
              "      border-right-color: var(--fill-color);\n",
              "    }\n",
              "    40% {\n",
              "      border-color: transparent;\n",
              "      border-right-color: var(--fill-color);\n",
              "      border-top-color: var(--fill-color);\n",
              "    }\n",
              "    60% {\n",
              "      border-color: transparent;\n",
              "      border-right-color: var(--fill-color);\n",
              "    }\n",
              "    80% {\n",
              "      border-color: transparent;\n",
              "      border-right-color: var(--fill-color);\n",
              "      border-bottom-color: var(--fill-color);\n",
              "    }\n",
              "    90% {\n",
              "      border-color: transparent;\n",
              "      border-bottom-color: var(--fill-color);\n",
              "    }\n",
              "  }\n",
              "</style>\n",
              "\n",
              "      <script>\n",
              "        async function quickchart(key) {\n",
              "          const quickchartButtonEl =\n",
              "            document.querySelector('#' + key + ' button');\n",
              "          quickchartButtonEl.disabled = true;  // To prevent multiple clicks.\n",
              "          quickchartButtonEl.classList.add('colab-df-spinner');\n",
              "          try {\n",
              "            const charts = await google.colab.kernel.invokeFunction(\n",
              "                'suggestCharts', [key], {});\n",
              "          } catch (error) {\n",
              "            console.error('Error during call to suggestCharts:', error);\n",
              "          }\n",
              "          quickchartButtonEl.classList.remove('colab-df-spinner');\n",
              "          quickchartButtonEl.classList.add('colab-df-quickchart-complete');\n",
              "        }\n",
              "        (() => {\n",
              "          let quickchartButtonEl =\n",
              "            document.querySelector('#df-b2dd7112-068a-4faa-aa6b-61e3f897efa7 button');\n",
              "          quickchartButtonEl.style.display =\n",
              "            google.colab.kernel.accessAllowed ? 'block' : 'none';\n",
              "        })();\n",
              "      </script>\n",
              "    </div>\n",
              "\n",
              "  <div id=\"id_adec9ecf-6da6-44d3-8a33-d5d0aecce5de\">\n",
              "    <style>\n",
              "      .colab-df-generate {\n",
              "        background-color: #E8F0FE;\n",
              "        border: none;\n",
              "        border-radius: 50%;\n",
              "        cursor: pointer;\n",
              "        display: none;\n",
              "        fill: #1967D2;\n",
              "        height: 32px;\n",
              "        padding: 0 0 0 0;\n",
              "        width: 32px;\n",
              "      }\n",
              "\n",
              "      .colab-df-generate:hover {\n",
              "        background-color: #E2EBFA;\n",
              "        box-shadow: 0px 1px 2px rgba(60, 64, 67, 0.3), 0px 1px 3px 1px rgba(60, 64, 67, 0.15);\n",
              "        fill: #174EA6;\n",
              "      }\n",
              "\n",
              "      [theme=dark] .colab-df-generate {\n",
              "        background-color: #3B4455;\n",
              "        fill: #D2E3FC;\n",
              "      }\n",
              "\n",
              "      [theme=dark] .colab-df-generate:hover {\n",
              "        background-color: #434B5C;\n",
              "        box-shadow: 0px 1px 3px 1px rgba(0, 0, 0, 0.15);\n",
              "        filter: drop-shadow(0px 1px 2px rgba(0, 0, 0, 0.3));\n",
              "        fill: #FFFFFF;\n",
              "      }\n",
              "    </style>\n",
              "    <button class=\"colab-df-generate\" onclick=\"generateWithVariable('revenue_stats')\"\n",
              "            title=\"Generate code using this dataframe.\"\n",
              "            style=\"display:none;\">\n",
              "\n",
              "  <svg xmlns=\"http://www.w3.org/2000/svg\" height=\"24px\"viewBox=\"0 0 24 24\"\n",
              "       width=\"24px\">\n",
              "    <path d=\"M7,19H8.4L18.45,9,17,7.55,7,17.6ZM5,21V16.75L18.45,3.32a2,2,0,0,1,2.83,0l1.4,1.43a1.91,1.91,0,0,1,.58,1.4,1.91,1.91,0,0,1-.58,1.4L9.25,21ZM18.45,9,17,7.55Zm-12,3A5.31,5.31,0,0,0,4.9,8.1,5.31,5.31,0,0,0,1,6.5,5.31,5.31,0,0,0,4.9,4.9,5.31,5.31,0,0,0,6.5,1,5.31,5.31,0,0,0,8.1,4.9,5.31,5.31,0,0,0,12,6.5,5.46,5.46,0,0,0,6.5,12Z\"/>\n",
              "  </svg>\n",
              "    </button>\n",
              "    <script>\n",
              "      (() => {\n",
              "      const buttonEl =\n",
              "        document.querySelector('#id_adec9ecf-6da6-44d3-8a33-d5d0aecce5de button.colab-df-generate');\n",
              "      buttonEl.style.display =\n",
              "        google.colab.kernel.accessAllowed ? 'block' : 'none';\n",
              "\n",
              "      buttonEl.onclick = () => {\n",
              "        google.colab.notebook.generateWithVariable('revenue_stats');\n",
              "      }\n",
              "      })();\n",
              "    </script>\n",
              "  </div>\n",
              "\n",
              "    </div>\n",
              "  </div>\n"
            ],
            "application/vnd.google.colaboratory.intrinsic+json": {
              "type": "dataframe",
              "variable_name": "revenue_stats",
              "summary": "{\n  \"name\": \"revenue_stats\",\n  \"rows\": 2,\n  \"fields\": [\n    {\n      \"column\": \"plan_type\",\n      \"properties\": {\n        \"dtype\": \"string\",\n        \"num_unique_values\": 2,\n        \"samples\": [\n          \"Standard\",\n          \"Premium\"\n        ],\n        \"semantic_type\": \"\",\n        \"description\": \"\"\n      }\n    },\n    {\n      \"column\": \"mean\",\n      \"properties\": {\n        \"dtype\": \"number\",\n        \"std\": 21762.160481869745,\n        \"min\": 9958.745,\n        \"max\": 40735.0875,\n        \"num_unique_values\": 2,\n        \"samples\": [\n          9958.745,\n          40735.0875\n        ],\n        \"semantic_type\": \"\",\n        \"description\": \"\"\n      }\n    },\n    {\n      \"column\": \"median\",\n      \"properties\": {\n        \"dtype\": \"number\",\n        \"std\": 17866.820593631088,\n        \"min\": 9995.5,\n        \"max\": 35263.0,\n        \"num_unique_values\": 2,\n        \"samples\": [\n          9995.5,\n          35263.0\n        ],\n        \"semantic_type\": \"\",\n        \"description\": \"\"\n      }\n    }\n  ]\n}"
            }
          },
          "metadata": {}
        }
      ]
    },
    {
      "cell_type": "markdown",
      "source": [
        "b) ¿Cuál de estas dos métricas (media o mediana) crees que representa de forma más fidedigna la \"rentabilidad típica\" de un cliente en cada plan? Justifica tu respuesta basándote en la posible forma de la distribución de los datos."
      ],
      "metadata": {
        "id": "yut8HxTMgKZ6"
      }
    },
    {
      "cell_type": "code",
      "source": [
        "# Evidentemente estamos ante outliers, la mediana es una medida más robusta de los datos.\n",
        "c_v = (df.groupby('plan_type')['monthly_revenue_clp'].std()/df.groupby('plan_type')['monthly_revenue_clp'].mean())*100\n",
        "display(c_v)"
      ],
      "metadata": {
        "colab": {
          "base_uri": "https://localhost:8080/",
          "height": 178
        },
        "id": "cFTLrOcOgDjR",
        "outputId": "fc519c36-5ce2-43ca-e79f-29f13bbf7d92"
      },
      "execution_count": 9,
      "outputs": [
        {
          "output_type": "display_data",
          "data": {
            "text/plain": [
              "plan_type\n",
              "Premium     62.503218\n",
              "Standard     9.348534\n",
              "Name: monthly_revenue_clp, dtype: float64"
            ],
            "text/html": [
              "<div>\n",
              "<style scoped>\n",
              "    .dataframe tbody tr th:only-of-type {\n",
              "        vertical-align: middle;\n",
              "    }\n",
              "\n",
              "    .dataframe tbody tr th {\n",
              "        vertical-align: top;\n",
              "    }\n",
              "\n",
              "    .dataframe thead th {\n",
              "        text-align: right;\n",
              "    }\n",
              "</style>\n",
              "<table border=\"1\" class=\"dataframe\">\n",
              "  <thead>\n",
              "    <tr style=\"text-align: right;\">\n",
              "      <th></th>\n",
              "      <th>monthly_revenue_clp</th>\n",
              "    </tr>\n",
              "    <tr>\n",
              "      <th>plan_type</th>\n",
              "      <th></th>\n",
              "    </tr>\n",
              "  </thead>\n",
              "  <tbody>\n",
              "    <tr>\n",
              "      <th>Premium</th>\n",
              "      <td>62.503218</td>\n",
              "    </tr>\n",
              "    <tr>\n",
              "      <th>Standard</th>\n",
              "      <td>9.348534</td>\n",
              "    </tr>\n",
              "  </tbody>\n",
              "</table>\n",
              "</div><br><label><b>dtype:</b> float64</label>"
            ]
          },
          "metadata": {}
        }
      ]
    },
    {
      "cell_type": "code",
      "source": [
        "# Dado que el coeficiente de variabilidad de los datos en el plan premium es muy alta, al ser superior al 30%\n",
        "# decimos que los datos son muy heterogéneos, mientras que los del plan Standard son muy homogéneos.\n",
        "# Por lo tanto, al tener datos tan dispersos, una mejor medida (más robusta) es la mediana."
      ],
      "metadata": {
        "id": "knAKy3lWiQHO"
      },
      "execution_count": null,
      "outputs": []
    },
    {
      "cell_type": "markdown",
      "source": [
        "c) Calcula la desviación estándar y el coeficiente de variación (CV) para los ingresos de cada plan. ¿Qué nos dice el CV sobre el riesgo o la predictibilidad de los ingresos de cada plan?"
      ],
      "metadata": {
        "id": "X8EbIwRAk48W"
      }
    },
    {
      "cell_type": "code",
      "source": [
        "desv_estandar = df.groupby('plan_type')['monthly_revenue_clp'].std()\n",
        "display(desv_estandar)"
      ],
      "metadata": {
        "colab": {
          "base_uri": "https://localhost:8080/",
          "height": 178
        },
        "id": "GnBoxwE8k0-2",
        "outputId": "3ab82983-6b9f-4430-e66c-487c58cc290b"
      },
      "execution_count": 10,
      "outputs": [
        {
          "output_type": "display_data",
          "data": {
            "text/plain": [
              "plan_type\n",
              "Premium     25460.740659\n",
              "Standard      930.996618\n",
              "Name: monthly_revenue_clp, dtype: float64"
            ],
            "text/html": [
              "<div>\n",
              "<style scoped>\n",
              "    .dataframe tbody tr th:only-of-type {\n",
              "        vertical-align: middle;\n",
              "    }\n",
              "\n",
              "    .dataframe tbody tr th {\n",
              "        vertical-align: top;\n",
              "    }\n",
              "\n",
              "    .dataframe thead th {\n",
              "        text-align: right;\n",
              "    }\n",
              "</style>\n",
              "<table border=\"1\" class=\"dataframe\">\n",
              "  <thead>\n",
              "    <tr style=\"text-align: right;\">\n",
              "      <th></th>\n",
              "      <th>monthly_revenue_clp</th>\n",
              "    </tr>\n",
              "    <tr>\n",
              "      <th>plan_type</th>\n",
              "      <th></th>\n",
              "    </tr>\n",
              "  </thead>\n",
              "  <tbody>\n",
              "    <tr>\n",
              "      <th>Premium</th>\n",
              "      <td>25460.740659</td>\n",
              "    </tr>\n",
              "    <tr>\n",
              "      <th>Standard</th>\n",
              "      <td>930.996618</td>\n",
              "    </tr>\n",
              "  </tbody>\n",
              "</table>\n",
              "</div><br><label><b>dtype:</b> float64</label>"
            ]
          },
          "metadata": {}
        }
      ]
    },
    {
      "cell_type": "code",
      "source": [
        "# El C.V ya lo calculé anteriormente, y como se mencionó, el CV nos dice que los ingresos del plan premium son más impredecibles, más riesgosos."
      ],
      "metadata": {
        "id": "3XibPWPtlOHT"
      },
      "execution_count": null,
      "outputs": []
    },
    {
      "cell_type": "markdown",
      "source": [
        "d) Basado en tu análisis completo (a, b, c), ¿qué plan recomendarías para una campaña de marketing que busca crecimiento estable y predecible? ¿Y si la campaña busca maximizar el ingreso potencial a pesar del riesgo?"
      ],
      "metadata": {
        "id": "rpkfSh8qllnR"
      }
    },
    {
      "cell_type": "code",
      "source": [
        "# En base a las medidas de tendencia central y de dispersión.\n",
        "# Para una campaña de crecimiento estable y predecible promocionaría el plan Standard. Para el plan de Riesgo (dado el CV) promocionaría el plan Premium, que si bien es más caro, ofrece mayores retornos, solo para valientes."
      ],
      "metadata": {
        "id": "exQ-uLbclhv8"
      },
      "execution_count": null,
      "outputs": []
    },
    {
      "cell_type": "markdown",
      "source": [
        "Pregunta 2: El Enigma del Engagement (2 Puntos)\n",
        "\n",
        "El equipo de producto del plan Premium está preocupado. Algunos gerentes sienten que \"el engagement promedio es bajo\", mientras que otros dicen que tienen \"los usuarios más leales\". Quieren saber qué está pasando realmente.\n",
        "\n",
        "a) Filtra el DataFrame para analizar únicamente a los usuarios del plan Premium.\n",
        "\n",
        "b) Calcula la media, la mediana y la asimetría (skewness) de la variable sessions_per_month.\n",
        "\n",
        "c) Interpreta el valor de la asimetría. ¿Qué te dice la relación entre la media y la mediana sobre la distribución de la actividad de los usuarios? ¿Cómo explica esto la percepción contradictoria que tiene el equipo de producto?"
      ],
      "metadata": {
        "id": "xQiOTYphdIJX"
      }
    },
    {
      "cell_type": "code",
      "source": [
        "usuario_premium = df[df['plan_type']=='Premium']"
      ],
      "metadata": {
        "id": "2uneF5uRdWN5"
      },
      "execution_count": 2,
      "outputs": []
    },
    {
      "cell_type": "code",
      "source": [
        "u_p = usuario_premium['sessions_per_month'].mean()\n",
        "u_m = usuario_premium['sessions_per_month'].median()\n",
        "u_s = usuario_premium['sessions_per_month'].skew()"
      ],
      "metadata": {
        "id": "uTAE0nmbfr9H"
      },
      "execution_count": 3,
      "outputs": []
    },
    {
      "cell_type": "code",
      "source": [
        "print(f'Media: {u_p}')\n",
        "print(f'Mediana: {u_m}')\n",
        "print(f'Asimetria: {u_s}')"
      ],
      "metadata": {
        "colab": {
          "base_uri": "https://localhost:8080/"
        },
        "id": "ueKiAWzKhVlI",
        "outputId": "3a78785a-ab6a-4b88-9a78-c216712f4a9d"
      },
      "execution_count": 4,
      "outputs": [
        {
          "output_type": "stream",
          "name": "stdout",
          "text": [
            "Media: 24.05\n",
            "Mediana: 22.5\n",
            "Asimetria: 1.2984348503158585\n"
          ]
        }
      ]
    },
    {
      "cell_type": "code",
      "source": [
        "# La Asimetría nos indica si la distribución de los datos es simétrica o está sesgada hacia un lado. En este caso, dado que la Asimetris nos arroja un valor mayor que 1, claramente la distribución de los datos está en la parte izquierda, ya que la cola es más larga a la derecha. Por esto, tenemos algunos outliers altos que tiran la media a la derecha y es ligeramente superior a la mediana.\n",
        "# En Engagment promedio es bajo, pero hay algunas sesiones por mes que son más altas y tiran el promedio más arriba."
      ],
      "metadata": {
        "id": "LCHTCF6Ykv_r"
      },
      "execution_count": null,
      "outputs": []
    },
    {
      "cell_type": "markdown",
      "source": [
        "Pregunta 3: La Percepción del Cliente (2 Puntos)\n",
        "\n",
        "El equipo de Experiencia de Usuario (UX) quiere entender la satisfacción de los clientes en ambos planes para decidir dónde enfocar las mejoras.\n",
        "\n",
        "a) Genera una visualización (se recomienda un boxplot o histogramas superpuestos) que compare las distribuciones de satisfaction_score para los planes Standard y Premium.\n",
        "\n",
        "b) Calcula la curtosis (kurtosis) para la distribución de la satisfacción de cada plan.\n",
        "\n",
        "c) Interpreta tus hallazgos. ¿Qué plan tiene una experiencia de usuario más consistente? ¿Qué significa la forma de la distribución del plan Premium (sugerida por la visualización y la curtosis) en términos de la experiencia del cliente? ¿Qué riesgo estratégico implica esto?\n",
        "\n"
      ],
      "metadata": {
        "id": "pKWTM9sU00DB"
      }
    },
    {
      "cell_type": "code",
      "source": [
        "import matplotlib.pyplot as plt\n",
        "import seaborn as sns"
      ],
      "metadata": {
        "id": "13Y5ratx08Z3"
      },
      "execution_count": 5,
      "outputs": []
    },
    {
      "cell_type": "code",
      "source": [
        "# Primero filtraré y agruparé los datos que quiero utilizar\n",
        "satisfaction_standard = df[df['plan_type']=='Standard']['satisfaction_score']\n",
        "satisfaction_premium = df[df['plan_type']=='Premium']['satisfaction_score']"
      ],
      "metadata": {
        "id": "zQjqiCwu1Djf"
      },
      "execution_count": 6,
      "outputs": []
    },
    {
      "cell_type": "code",
      "source": [
        "# a) Genera una visualización (se recomienda un boxplot o histogramas superpuestos)\n",
        "# que compare las distribuciones de satisfaction_score para los planes Standard y Premium.\n",
        "\n",
        "plt.figure(figsize=(8, 6))\n",
        "sns.boxplot(x='plan_type', y='satisfaction_score', data=df)\n",
        "plt.title('Distribution of Satisfaction Score by Plan Type')\n",
        "plt.xlabel('Plan Type')\n",
        "plt.ylabel('Satisfaction Score')\n",
        "plt.show()"
      ],
      "metadata": {
        "colab": {
          "base_uri": "https://localhost:8080/",
          "height": 564
        },
        "id": "6rE4EZZl1isR",
        "outputId": "24776510-abe4-4a11-95c7-0eb3f7da9c67"
      },
      "execution_count": 9,
      "outputs": [
        {
          "output_type": "display_data",
          "data": {
            "text/plain": [
              "<Figure size 800x600 with 1 Axes>"
            ],
            "image/png": "[encoded data removed]"
          },
          "metadata": {}
        }
      ]
    },
    {
      "cell_type": "code",
      "source": [
        "# Calcularé la curtosis para la distribución de la satisfacción de cada plan\n",
        "curtosis_standard = satisfaction_standard.kurtosis()\n",
        "curtosis_premium = satisfaction_premium.kurtosis()"
      ],
      "metadata": {
        "id": "2v5VDjeC1WC1"
      },
      "execution_count": 7,
      "outputs": []
    },
    {
      "cell_type": "code",
      "metadata": {
        "colab": {
          "base_uri": "https://localhost:8080/"
        },
        "id": "4184e944",
        "outputId": "9b076d2d-3567-4812-ea41-35ce670265a2"
      },
      "source": [
        "# b) Calcula la curtosis (kurtosis) para la distribución de la satisfacción de cada plan.\n",
        "curtosis_standard = satisfaction_standard.kurtosis()\n",
        "curtosis_premium = satisfaction_premium.kurtosis()\n",
        "\n",
        "print(f\"Kurtosis of Satisfaction Score (Standard): {curtosis_standard:.2f}\")\n",
        "print(f\"Kurtosis of Satisfaction Score (Premium): {curtosis_premium:.2f}\")"
      ],
      "execution_count": 11,
      "outputs": [
        {
          "output_type": "stream",
          "name": "stdout",
          "text": [
            "Kurtosis of Satisfaction Score (Standard): -0.12\n",
            "Kurtosis of Satisfaction Score (Premium): -1.69\n"
          ]
        }
      ]
    },
    {
      "cell_type": "code",
      "source": [],
      "metadata": {
        "id": "B0-cnYeY2t_g"
      },
      "execution_count": null,
      "outputs": []
    },
    {
      "cell_type": "markdown",
      "source": [],
      "metadata": {
        "id": "IqW30BUZ2Ca5"
      }
    }
  ]
}