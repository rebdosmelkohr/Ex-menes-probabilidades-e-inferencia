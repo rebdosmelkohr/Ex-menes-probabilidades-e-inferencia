{
  "nbformat": 4,
  "nbformat_minor": 0,
  "metadata": {
    "colab": {
      "provenance": []
    },
    "kernelspec": {
      "name": "python3",
      "display_name": "Python 3"
    },
    "language_info": {
      "name": "python"
    }
  },
  "cells": [
    {
      "cell_type": "markdown",
      "source": [
        "Examen 2: Maestría en Descripción Estratégica\n",
        "Caso de Estudio: MercadoMaule\n",
        "\n",
        "Asumes el rol de Analista de Datos Senior en \"MercadoMaule\", un e-commerce en plena expansión en la Región del Maule. La empresa vende productos en tres categorías principales: 'Electrónica', 'Hogar' y 'Ropa'. La gerencia necesita un análisis profundo de la data de operaciones para optimizar la logística y la estrategia de precios."
      ],
      "metadata": {
        "id": "5_ts36zUmJrz"
      }
    },
    {
      "cell_type": "code",
      "execution_count": 1,
      "metadata": {
        "id": "z1TwnORXl-gu"
      },
      "outputs": [],
      "source": [
        "#Conjunto de Datos:\n",
        "# Ejecuta el siguiente código para generar tu DataFrame de trabajo.\n",
        "# Las distribuciones han sido diseñadas para ser realistas y desafiantes.\n",
        "import pandas as pd\n",
        "import numpy as np\n",
        "\n",
        "np.random.seed(123)\n",
        "\n",
        "# Generar datos base\n",
        "n_total = 500\n",
        "categorias = ['Electrónica', 'Hogar', 'Ropa']\n",
        "prob_categorias = [0.25, 0.4, 0.35]\n",
        "df = pd.DataFrame({\n",
        "    'categoria_producto': np.random.choice(categorias, n_total, p=prob_categorias)\n",
        "})\n",
        "\n",
        "# Diccionarios para almacenar los datos\n",
        "valor_orden = {}\n",
        "tiempo_entrega = {}\n",
        "rating = {}\n",
        "\n",
        "# Electrónica: Valor alto, alta varianza, asimetría positiva\n",
        "valor_orden['Electrónica'] = np.random.gamma(shape=3, scale=80000, size=(df['categoria_producto'] == 'Electrónica').sum()).astype(int)\n",
        "tiempo_entrega['Electrónica'] = np.random.normal(loc=72, scale=12, size=(df['categoria_producto'] == 'Electrónica').sum())\n",
        "rating['Electrónica'] = np.random.normal(loc=4.1, scale=0.8, size=(df['categoria_producto'] == 'Electrónica').sum())\n",
        "\n",
        "# Hogar: Valor moderado, distribución normal, predecible\n",
        "valor_orden['Hogar'] = np.random.normal(loc=50000, scale=15000, size=(df['categoria_producto'] == 'Hogar').sum()).astype(int)\n",
        "# Tiempo de entrega muy consistente (baja curtosis)\n",
        "tiempo_entrega['Hogar'] = np.random.uniform(low=40, high=56, size=(df['categoria_producto'] == 'Hogar').sum())\n",
        "rating['Hogar'] = np.random.normal(loc=4.5, scale=0.4, size=(df['categoria_producto'] == 'Hogar').sum())\n",
        "\n",
        "# Ropa: Valor bajo, pero con tiempo de entrega muy variable (alta curtosis)\n",
        "valor_orden['Ropa'] = np.random.lognormal(mean=np.log(20000), sigma=0.5, size=(df['categoria_producto'] == 'Ropa').sum()).astype(int)\n",
        "# Tiempo de entrega polarizado: o muy rápido o muy lento\n",
        "entregas_rapidas = np.random.normal(loc=24, scale=4, size=int((df['categoria_producto'] == 'Ropa').sum() * 0.8))\n",
        "entregas_lentas = np.random.normal(loc=120, scale=10, size=int((df['categoria_producto'] == 'Ropa').sum() * 0.2))\n",
        "tiempo_entrega['Ropa'] = np.concatenate([entregas_rapidas, entregas_lentas])\n",
        "np.random.shuffle(tiempo_entrega['Ropa'])\n",
        "rating['Ropa'] = np.random.choice([3, 4, 5], size=(df['categoria_producto'] == 'Ropa').sum(), p=[0.15, 0.35, 0.5])\n",
        "\n",
        "\n",
        "# Asignar los datos al DataFrame\n",
        "df['valor_orden_clp'] = 0\n",
        "df['tiempo_entrega_horas'] = 0.0\n",
        "df['rating_cliente'] = 0.0\n",
        "\n",
        "for cat in categorias:\n",
        "    mask = df['categoria_producto'] == cat\n",
        "    df.loc[mask, 'valor_orden_clp'] = valor_orden[cat]\n",
        "    df.loc[mask, 'tiempo_entrega_horas'] = tiempo_entrega[cat]\n",
        "    df.loc[mask, 'rating_cliente'] = rating[cat]\n",
        "\n",
        "# Limpiar valores imposibles\n",
        "df['valor_orden_clp'] = df['valor_orden_clp'].clip(lower=1000)\n",
        "df['rating_cliente'] = df['rating_cliente'].clip(1, 5)"
      ]
    },
    {
      "cell_type": "markdown",
      "source": [
        "Pregunta 1: Análisis de la Experiencia del Cliente (2 Puntos)\n",
        "\n",
        "El equipo de Producto quiere entender la percepción de los clientes sobre los productos de la categoría 'Hogar'.\n",
        "\n",
        "a) Para la variable rating_cliente en la categoría 'Hogar', calcula el rango (máximo - mínimo).\n",
        "\n",
        "b) Encuentra el percentil 85 del rating. ¿Qué significa este valor en términos prácticos?\n",
        "\n",
        "c) Determina el rango de ratings que contiene el 30% central de los datos (es decir, entre el percentil 35 y el 65). ¿Qué te dice la estrechez de este rango sobre la consistencia de la experiencia del cliente en esta categoría?"
      ],
      "metadata": {
        "id": "zNrStSOQmg3x"
      }
    },
    {
      "cell_type": "code",
      "source": [
        "# Primero necesito observar la data a priori\n",
        "df.info()\n",
        "df.head(6)"
      ],
      "metadata": {
        "colab": {
          "base_uri": "https://localhost:8080/",
          "height": 434
        },
        "id": "aDAasw7jma6M",
        "outputId": "aa51551c-dd8d-462c-a727-0c62ee031b7c"
      },
      "execution_count": 2,
      "outputs": [
        {
          "output_type": "stream",
          "name": "stdout",
          "text": [
            "<class 'pandas.core.frame.DataFrame'>\n",
            "RangeIndex: 500 entries, 0 to 499\n",
            "Data columns (total 4 columns):\n",
            " #   Column                Non-Null Count  Dtype  \n",
            "---  ------                --------------  -----  \n",
            " 0   categoria_producto    500 non-null    object \n",
            " 1   valor_orden_clp       500 non-null    int64  \n",
            " 2   tiempo_entrega_horas  500 non-null    float64\n",
            " 3   rating_cliente        500 non-null    float64\n",
            "dtypes: float64(2), int64(1), object(1)\n",
            "memory usage: 15.8+ KB\n"
          ]
        },
        {
          "output_type": "execute_result",
          "data": {
            "text/plain": [
              "  categoria_producto  valor_orden_clp  tiempo_entrega_horas  rating_cliente\n",
              "0               Ropa            13719             15.830132        5.000000\n",
              "1              Hogar            44366             54.690954        4.474369\n",
              "2        Electrónica           155406             75.359323        4.069343\n",
              "3              Hogar            52274             41.249378        4.317857\n",
              "4               Ropa             9074             21.579562        5.000000\n",
              "5              Hogar            24035             53.638669        5.000000"
            ],
            "text/html": [
              "\n",
              "  <div id=\"df-a82490e5-b3ab-48a7-b15c-1c522d301548\" class=\"colab-df-container\">\n",
              "    <div>\n",
              "<style scoped>\n",
              "    .dataframe tbody tr th:only-of-type {\n",
              "        vertical-align: middle;\n",
              "    }\n",
              "\n",
              "    .dataframe tbody tr th {\n",
              "        vertical-align: top;\n",
              "    }\n",
              "\n",
              "    .dataframe thead th {\n",
              "        text-align: right;\n",
              "    }\n",
              "</style>\n",
              "<table border=\"1\" class=\"dataframe\">\n",
              "  <thead>\n",
              "    <tr style=\"text-align: right;\">\n",
              "      <th></th>\n",
              "      <th>categoria_producto</th>\n",
              "      <th>valor_orden_clp</th>\n",
              "      <th>tiempo_entrega_horas</th>\n",
              "      <th>rating_cliente</th>\n",
              "    </tr>\n",
              "  </thead>\n",
              "  <tbody>\n",
              "    <tr>\n",
              "      <th>0</th>\n",
              "      <td>Ropa</td>\n",
              "      <td>13719</td>\n",
              "      <td>15.830132</td>\n",
              "      <td>5.000000</td>\n",
              "    </tr>\n",
              "    <tr>\n",
              "      <th>1</th>\n",
              "      <td>Hogar</td>\n",
              "      <td>44366</td>\n",
              "      <td>54.690954</td>\n",
              "      <td>4.474369</td>\n",
              "    </tr>\n",
              "    <tr>\n",
              "      <th>2</th>\n",
              "      <td>Electrónica</td>\n",
              "      <td>155406</td>\n",
              "      <td>75.359323</td>\n",
              "      <td>4.069343</td>\n",
              "    </tr>\n",
              "    <tr>\n",
              "      <th>3</th>\n",
              "      <td>Hogar</td>\n",
              "      <td>52274</td>\n",
              "      <td>41.249378</td>\n",
              "      <td>4.317857</td>\n",
              "    </tr>\n",
              "    <tr>\n",
              "      <th>4</th>\n",
              "      <td>Ropa</td>\n",
              "      <td>9074</td>\n",
              "      <td>21.579562</td>\n",
              "      <td>5.000000</td>\n",
              "    </tr>\n",
              "    <tr>\n",
              "      <th>5</th>\n",
              "      <td>Hogar</td>\n",
              "      <td>24035</td>\n",
              "      <td>53.638669</td>\n",
              "      <td>5.000000</td>\n",
              "    </tr>\n",
              "  </tbody>\n",
              "</table>\n",
              "</div>\n",
              "    <div class=\"colab-df-buttons\">\n",
              "\n",
              "  <div class=\"colab-df-container\">\n",
              "    <button class=\"colab-df-convert\" onclick=\"convertToInteractive('df-a82490e5-b3ab-48a7-b15c-1c522d301548')\"\n",
              "            title=\"Convert this dataframe to an interactive table.\"\n",
              "            style=\"display:none;\">\n",
              "\n",
              "  <svg xmlns=\"http://www.w3.org/2000/svg\" height=\"24px\" viewBox=\"0 -960 960 960\">\n",
              "    <path d=\"M120-120v-720h720v720H120Zm60-500h600v-160H180v160Zm220 220h160v-160H400v160Zm0 220h160v-160H400v160ZM180-400h160v-160H180v160Zm440 0h160v-160H620v160ZM180-180h160v-160H180v160Zm440 0h160v-160H620v160Z\"/>\n",
              "  </svg>\n",
              "    </button>\n",
              "\n",
              "  <style>\n",
              "    .colab-df-container {\n",
              "      display:flex;\n",
              "      gap: 12px;\n",
              "    }\n",
              "\n",
              "    .colab-df-convert {\n",
              "      background-color: #E8F0FE;\n",
              "      border: none;\n",
              "      border-radius: 50%;\n",
              "      cursor: pointer;\n",
              "      display: none;\n",
              "      fill: #1967D2;\n",
              "      height: 32px;\n",
              "      padding: 0 0 0 0;\n",
              "      width: 32px;\n",
              "    }\n",
              "\n",
              "    .colab-df-convert:hover {\n",
              "      background-color: #E2EBFA;\n",
              "      box-shadow: 0px 1px 2px rgba(60, 64, 67, 0.3), 0px 1px 3px 1px rgba(60, 64, 67, 0.15);\n",
              "      fill: #174EA6;\n",
              "    }\n",
              "\n",
              "    .colab-df-buttons div {\n",
              "      margin-bottom: 4px;\n",
              "    }\n",
              "\n",
              "    [theme=dark] .colab-df-convert {\n",
              "      background-color: #3B4455;\n",
              "      fill: #D2E3FC;\n",
              "    }\n",
              "\n",
              "    [theme=dark] .colab-df-convert:hover {\n",
              "      background-color: #434B5C;\n",
              "      box-shadow: 0px 1px 3px 1px rgba(0, 0, 0, 0.15);\n",
              "      filter: drop-shadow(0px 1px 2px rgba(0, 0, 0, 0.3));\n",
              "      fill: #FFFFFF;\n",
              "    }\n",
              "  </style>\n",
              "\n",
              "    <script>\n",
              "      const buttonEl =\n",
              "        document.querySelector('#df-a82490e5-b3ab-48a7-b15c-1c522d301548 button.colab-df-convert');\n",
              "      buttonEl.style.display =\n",
              "        google.colab.kernel.accessAllowed ? 'block' : 'none';\n",
              "\n",
              "      async function convertToInteractive(key) {\n",
              "        const element = document.querySelector('#df-a82490e5-b3ab-48a7-b15c-1c522d301548');\n",
              "        const dataTable =\n",
              "          await google.colab.kernel.invokeFunction('convertToInteractive',\n",
              "                                                    [key], {});\n",
              "        if (!dataTable) return;\n",
              "\n",
              "        const docLinkHtml = 'Like what you see? Visit the ' +\n",
              "          '<a target=\"_blank\" href=https://colab.research.google.com/notebooks/data_table.ipynb>data table notebook</a>'\n",
              "          + ' to learn more about interactive tables.';\n",
              "        element.innerHTML = '';\n",
              "        dataTable['output_type'] = 'display_data';\n",
              "        await google.colab.output.renderOutput(dataTable, element);\n",
              "        const docLink = document.createElement('div');\n",
              "        docLink.innerHTML = docLinkHtml;\n",
              "        element.appendChild(docLink);\n",
              "      }\n",
              "    </script>\n",
              "  </div>\n",
              "\n",
              "\n",
              "    <div id=\"df-04af4eed-acb8-4bfa-bfda-9d2c39b8a7a5\">\n",
              "      <button class=\"colab-df-quickchart\" onclick=\"quickchart('df-04af4eed-acb8-4bfa-bfda-9d2c39b8a7a5')\"\n",
              "                title=\"Suggest charts\"\n",
              "                style=\"display:none;\">\n",
              "\n",
              "<svg xmlns=\"http://www.w3.org/2000/svg\" height=\"24px\"viewBox=\"0 0 24 24\"\n",
              "     width=\"24px\">\n",
              "    <g>\n",
              "        <path d=\"M19 3H5c-1.1 0-2 .9-2 2v14c0 1.1.9 2 2 2h14c1.1 0 2-.9 2-2V5c0-1.1-.9-2-2-2zM9 17H7v-7h2v7zm4 0h-2V7h2v10zm4 0h-2v-4h2v4z\"/>\n",
              "    </g>\n",
              "</svg>\n",
              "      </button>\n",
              "\n",
              "<style>\n",
              "  .colab-df-quickchart {\n",
              "      --bg-color: #E8F0FE;\n",
              "      --fill-color: #1967D2;\n",
              "      --hover-bg-color: #E2EBFA;\n",
              "      --hover-fill-color: #174EA6;\n",
              "      --disabled-fill-color: #AAA;\n",
              "      --disabled-bg-color: #DDD;\n",
              "  }\n",
              "\n",
              "  [theme=dark] .colab-df-quickchart {\n",
              "      --bg-color: #3B4455;\n",
              "      --fill-color: #D2E3FC;\n",
              "      --hover-bg-color: #434B5C;\n",
              "      --hover-fill-color: #FFFFFF;\n",
              "      --disabled-bg-color: #3B4455;\n",
              "      --disabled-fill-color: #666;\n",
              "  }\n",
              "\n",
              "  .colab-df-quickchart {\n",
              "    background-color: var(--bg-color);\n",
              "    border: none;\n",
              "    border-radius: 50%;\n",
              "    cursor: pointer;\n",
              "    display: none;\n",
              "    fill: var(--fill-color);\n",
              "    height: 32px;\n",
              "    padding: 0;\n",
              "    width: 32px;\n",
              "  }\n",
              "\n",
              "  .colab-df-quickchart:hover {\n",
              "    background-color: var(--hover-bg-color);\n",
              "    box-shadow: 0 1px 2px rgba(60, 64, 67, 0.3), 0 1px 3px 1px rgba(60, 64, 67, 0.15);\n",
              "    fill: var(--button-hover-fill-color);\n",
              "  }\n",
              "\n",
              "  .colab-df-quickchart-complete:disabled,\n",
              "  .colab-df-quickchart-complete:disabled:hover {\n",
              "    background-color: var(--disabled-bg-color);\n",
              "    fill: var(--disabled-fill-color);\n",
              "    box-shadow: none;\n",
              "  }\n",
              "\n",
              "  .colab-df-spinner {\n",
              "    border: 2px solid var(--fill-color);\n",
              "    border-color: transparent;\n",
              "    border-bottom-color: var(--fill-color);\n",
              "    animation:\n",
              "      spin 1s steps(1) infinite;\n",
              "  }\n",
              "\n",
              "  @keyframes spin {\n",
              "    0% {\n",
              "      border-color: transparent;\n",
              "      border-bottom-color: var(--fill-color);\n",
              "      border-left-color: var(--fill-color);\n",
              "    }\n",
              "    20% {\n",
              "      border-color: transparent;\n",
              "      border-left-color: var(--fill-color);\n",
              "      border-top-color: var(--fill-color);\n",
              "    }\n",
              "    30% {\n",
              "      border-color: transparent;\n",
              "      border-left-color: var(--fill-color);\n",
              "      border-top-color: var(--fill-color);\n",
              "      border-right-color: var(--fill-color);\n",
              "    }\n",
              "    40% {\n",
              "      border-color: transparent;\n",
              "      border-right-color: var(--fill-color);\n",
              "      border-top-color: var(--fill-color);\n",
              "    }\n",
              "    60% {\n",
              "      border-color: transparent;\n",
              "      border-right-color: var(--fill-color);\n",
              "    }\n",
              "    80% {\n",
              "      border-color: transparent;\n",
              "      border-right-color: var(--fill-color);\n",
              "      border-bottom-color: var(--fill-color);\n",
              "    }\n",
              "    90% {\n",
              "      border-color: transparent;\n",
              "      border-bottom-color: var(--fill-color);\n",
              "    }\n",
              "  }\n",
              "</style>\n",
              "\n",
              "      <script>\n",
              "        async function quickchart(key) {\n",
              "          const quickchartButtonEl =\n",
              "            document.querySelector('#' + key + ' button');\n",
              "          quickchartButtonEl.disabled = true;  // To prevent multiple clicks.\n",
              "          quickchartButtonEl.classList.add('colab-df-spinner');\n",
              "          try {\n",
              "            const charts = await google.colab.kernel.invokeFunction(\n",
              "                'suggestCharts', [key], {});\n",
              "          } catch (error) {\n",
              "            console.error('Error during call to suggestCharts:', error);\n",
              "          }\n",
              "          quickchartButtonEl.classList.remove('colab-df-spinner');\n",
              "          quickchartButtonEl.classList.add('colab-df-quickchart-complete');\n",
              "        }\n",
              "        (() => {\n",
              "          let quickchartButtonEl =\n",
              "            document.querySelector('#df-04af4eed-acb8-4bfa-bfda-9d2c39b8a7a5 button');\n",
              "          quickchartButtonEl.style.display =\n",
              "            google.colab.kernel.accessAllowed ? 'block' : 'none';\n",
              "        })();\n",
              "      </script>\n",
              "    </div>\n",
              "\n",
              "    </div>\n",
              "  </div>\n"
            ],
            "application/vnd.google.colaboratory.intrinsic+json": {
              "type": "dataframe",
              "variable_name": "df",
              "summary": "{\n  \"name\": \"df\",\n  \"rows\": 500,\n  \"fields\": [\n    {\n      \"column\": \"categoria_producto\",\n      \"properties\": {\n        \"dtype\": \"category\",\n        \"num_unique_values\": 3,\n        \"samples\": [\n          \"Ropa\",\n          \"Hogar\",\n          \"Electr\\u00f3nica\"\n        ],\n        \"semantic_type\": \"\",\n        \"description\": \"\"\n      }\n    },\n    {\n      \"column\": \"valor_orden_clp\",\n      \"properties\": {\n        \"dtype\": \"number\",\n        \"std\": 117058,\n        \"min\": 2494,\n        \"max\": 663127,\n        \"num_unique_values\": 499,\n        \"samples\": [\n          53678,\n          18919,\n          122687\n        ],\n        \"semantic_type\": \"\",\n        \"description\": \"\"\n      }\n    },\n    {\n      \"column\": \"tiempo_entrega_horas\",\n      \"properties\": {\n        \"dtype\": \"number\",\n        \"std\": 26.640289775423426,\n        \"min\": 14.32889836175889,\n        \"max\": 138.28065286835704,\n        \"num_unique_values\": 500,\n        \"samples\": [\n          62.12057802462611,\n          20.964326510160234,\n          133.851179244179\n        ],\n        \"semantic_type\": \"\",\n        \"description\": \"\"\n      }\n    },\n    {\n      \"column\": \"rating_cliente\",\n      \"properties\": {\n        \"dtype\": \"number\",\n        \"std\": 0.6716596627807141,\n        \"min\": 1.8644221613539367,\n        \"max\": 5.0,\n        \"num_unique_values\": 301,\n        \"samples\": [\n          3.3634827659093065,\n          4.2956517568745065,\n          4.19100477830387\n        ],\n        \"semantic_type\": \"\",\n        \"description\": \"\"\n      }\n    }\n  ]\n}"
            }
          },
          "metadata": {},
          "execution_count": 2
        }
      ]
    },
    {
      "cell_type": "code",
      "source": [
        "# a) Para la variable rating_cliente en la categoría 'Hogar', calcula el rango (máximo - mínimo).\n",
        "rating_hogar  = df[(df['categoria_producto']  ==  'Hogar')]['rating_cliente']\n",
        "rango_hogar = np.max(rating_hogar)  - np.min(rating_hogar)\n",
        "print (f'El rango de la categoría hogar es: {rango_hogar}')\n",
        "# Este resultado nos indica con claridad que los datos dentro de esa categoría no están tan dispersos, es decir, que la puntuación que le dan los clientes oscila entre un rango pequeño de datos."
      ],
      "metadata": {
        "colab": {
          "base_uri": "https://localhost:8080/"
        },
        "id": "Np2AqLwAQ2_n",
        "outputId": "712f27f1-3a46-4b2a-88a2-dc9f92caea1f"
      },
      "execution_count": 2,
      "outputs": [
        {
          "output_type": "stream",
          "name": "stdout",
          "text": [
            "El rango de la categoría hogar es: 1.6777622879872625\n"
          ]
        }
      ]
    },
    {
      "cell_type": "code",
      "source": [
        "# b) Encuentra el percentil 85 del rating. ¿Qué significa este valor en términos prácticos?\n",
        "percentil_85 = np.percentile(rating_hogar,85)\n",
        "print (f'El percentil 85 de los datos de la categoría hogar es: {percentil_85}')\n",
        "# Esto significa que el 85% de las puntuaciones de la categoría hogar son menores o iguales a 4.89, y a su vez, que solo un 15% es superior a esto."
      ],
      "metadata": {
        "colab": {
          "base_uri": "https://localhost:8080/"
        },
        "id": "sssB2q3XTqxI",
        "outputId": "1cee2295-9468-46d6-e7c5-913d49e5587b"
      },
      "execution_count": 3,
      "outputs": [
        {
          "output_type": "stream",
          "name": "stdout",
          "text": [
            "El percentil 85 de los datos de la categoría hogar es: 4.898085611968032\n"
          ]
        }
      ]
    },
    {
      "cell_type": "code",
      "source": [
        "# c) Determina el rango de ratings que contiene el 30% central de los datos (es decir, entre el percentil 35 y el 65). ¿Qué te dice la estrechez de este rango sobre la consistencia de la experiencia del cliente en esta categoría?\n",
        "percentil_35  = np.percentile(rating_hogar,35)\n",
        "percentil_65  = np.percentile(rating_hogar,65)\n",
        "print (f'Los límites del 30% central de las calificaciones son: {percentil_35} y {percentil_65}')\n",
        "# Esto nos indica que el 30% central de las calificaciones del centro se encuentran entre 4.33 y 4.71, puedo interpretar esto con que nuestros consumidores están contentos pero aún así les falta algo para poder dar le máximo de calificación, algo pequeño, hay que investigar qué puede marcar la diferencia.\n"
      ],
      "metadata": {
        "colab": {
          "base_uri": "https://localhost:8080/"
        },
        "id": "Ln_n_0BrU0vw",
        "outputId": "4813e3df-5271-477d-e6af-eee631028567"
      },
      "execution_count": 4,
      "outputs": [
        {
          "output_type": "stream",
          "name": "stdout",
          "text": [
            "Los límites del 30% central de las calificaciones son: 4.335834758640021 y 4.717606013619184\n"
          ]
        }
      ]
    },
    {
      "cell_type": "markdown",
      "source": [
        "Pregunta 2: Perfiles de Riesgo y Oportunidad (2.5 Puntos)\n",
        "\n",
        "El equipo de Finanzas quiere entender el perfil de las diferentes categorías para gestionar el inventario y predecir ingresos.\n",
        "\n",
        "a) Compara la distribución de valor_orden_clp para 'Electrónica' vs. 'Hogar'. Calcula y, más importante, interpreta la asimetría de ambas. ¿Qué categoría tiene más \"sorpresas\" de ventas de alto valor? ¿Qué implica esto para la gestión de inventario?\n",
        "\n",
        "b) Ahora, compara la distribución de tiempo_entrega_horas para 'Hogar' vs. 'Ropa'. Calcula e interpreta la curtosis de ambas. ¿Qué categoría tiene una logística más predecible? ¿Qué significa una curtosis alta en el contexto de la promesa de entrega a un cliente?"
      ],
      "metadata": {
        "id": "biTkSoqRmmhj"
      }
    },
    {
      "cell_type": "code",
      "source": [
        "df.head(3)\n",
        "valor_electronica = df[(df['categoria_producto']=='Electrónica')]['valor_orden_clp']\n",
        "valor_hogar = df[(df['categoria_producto']=='Hogar')]['valor_orden_clp']\n",
        "# para calcular la distribución, utilizaré el coeficiente de variabilidad.\n",
        "variacion_electronica = (np.std(valor_electronica)/np.mean(valor_electronica))*100\n",
        "variacion_hogar = (np.std(valor_hogar)/np.mean(valor_hogar))*100\n",
        "print (f'El coeficiente de variación de los valores de las ventas de electrónica es de {variacion_electronica} y el de hogar es de {variacion_hogar}')"
      ],
      "metadata": {
        "colab": {
          "base_uri": "https://localhost:8080/"
        },
        "id": "17bEG7QLmtf-",
        "outputId": "5e566019-8896-4f57-8861-96f308148b57"
      },
      "execution_count": 6,
      "outputs": [
        {
          "output_type": "stream",
          "name": "stdout",
          "text": [
            "El coeficiente de variación de los valores de las ventas de electrónica es de 50.3265840548628 y el de hogar es de 29.164748450271954\n"
          ]
        }
      ]
    },
    {
      "cell_type": "code",
      "source": [
        "from scipy.stats import skew\n",
        "asimetria_electronica = skew(valor_electronica)\n",
        "asimetria_hogar = skew(valor_hogar)\n",
        "\n",
        "print (f'La asimetría de el valor de las ventas de electrónica es de {asimetria_electronica} y el de hogar es de {asimetria_hogar}')\n",
        "# Esto nos indica que el valor de las ventas de electrónica están sesgadas a la derecha, es decir, el valor de las ventas de esta categoría se concentra en la parte izquierda de la mediana, lo que implica menores valores de las ventas pero hay algunas sorpresas, es decir algunos clientes (pocos) que han comprado grandes valores. On the other hand, los valors de las ventas que se llevaron a cabo de la categoría hogar, está sesgada a la izquierda, lo que nos indica que los datos se distribuyen principalmene en el lado derecho, tenemos grandes valores de ventas concentrados en este grupo pero algunos que compran muy pocos en esta categoría."
      ],
      "metadata": {
        "colab": {
          "base_uri": "https://localhost:8080/"
        },
        "id": "ez3SSQtwNV7r",
        "outputId": "3e8d1f94-d83e-4d93-e7a1-7c9b5d696ee9"
      },
      "execution_count": 7,
      "outputs": [
        {
          "output_type": "stream",
          "name": "stdout",
          "text": [
            "La asimetría de el valor de las ventas de electrónica es de 0.6610821605242316 y el de hogar es de -0.2534236941677353\n"
          ]
        }
      ]
    },
    {
      "cell_type": "code",
      "source": [
        "# b) Ahora, compara la distribución de tiempo_entrega_horas para 'Hogar' vs. 'Ropa'. Calcula e interpreta la curtosis de ambas.\n",
        "# ¿Qué categoría tiene una logística más predecible? ¿Qué significa una curtosis alta en el contexto de la promesa de entrega a un cliente?\n",
        "\n",
        "from scipy.stats import kurtosis\n",
        "tiempo_hogar  = df[(df['categoria_producto']  ==  'Hogar')]['tiempo_entrega_horas']\n",
        "tiempo_ropa = df[(df['categoria_producto']  ==  'Ropa')]['tiempo_entrega_horas']\n",
        "curtosis_hogar  = kurtosis(tiempo_hogar)\n",
        "curtosis_ropa = kurtosis(tiempo_ropa)\n",
        "print (f'La Curtosis de el tiempo de entrega de los productos \"Hogar es de {curtosis_hogar} y la Curtosis del tiempo de entrega de la ropa es de {curtosis_ropa}')\n",
        "# En relación a los productos del hogar, se observa una curtosis platicúrtica al ser menor que 0, eso quiere decir, que los tiempos de entrega de los productos no están concentrados en un punto específico sino que se reparten por toda la distribución, y hay pocas posibilidades de tener tiempos de entrega demasiado altos o demasiado bajos.\n",
        "# Ahora bien, en relaciñon al tiempo de enetrega de la ropa, tenemos una agrupación de los tiempos bastante más concentrada en el centro, y con posibles cisnes negros, ya que las colas son más pesadas, es decir, podríamos estar ante algunas demoras excesivas."
      ],
      "metadata": {
        "colab": {
          "base_uri": "https://localhost:8080/"
        },
        "id": "nb6V8Q32P_LC",
        "outputId": "426be5f0-c0ff-4d9f-f0b6-a7dd49e9bbe0"
      },
      "execution_count": 11,
      "outputs": [
        {
          "output_type": "stream",
          "name": "stdout",
          "text": [
            "La Curtosis de el tiempo de entrega de los productos \"Hogar es de -1.2942518869846733 y la Curtosis del tiempo de entrega de la ropa es de 0.4489169256272727\n"
          ]
        }
      ]
    },
    {
      "cell_type": "markdown",
      "source": [
        "**Pregunta 3: El Informe del Consultor (2.5 Puntos)**\n",
        "\n",
        "Este es tu desafío final. La ambigüedad es intencional. En el mundo real, nadie te pide calcular la curtosis; te piden resolver un problema.\n",
        "\n",
        "Situación: El Jefe de Logística te llama a su oficina y te dice:\n",
        "\n",
        "\"Estoy muy preocupado por la operación de la categoría 'Ropa'. Mis supervisores me dicen que los tiempos de entrega están 'bien en promedio', pero mi bandeja de entrada está llena de quejas de clientes furiosos por demoras extremas, mientras que otros nos felicitan en redes sociales por la rapidez. No entiendo qué está pasando. Necesito un diagnóstico completo y claro. ¿Nuestra logística para 'Ropa' es un desastre o no? Preséntame un informe con tu análisis y recomendaciones.\"\n",
        "\n",
        "Tu tarea:\n",
        "Prepara un informe completo para el Jefe de Logística. No hay sub-preguntas. Eres el analista senior. Debes decidir qué métricas calcular, qué visualizaciones crear y qué conclusiones y recomendaciones presentar. Se evaluará la totalidad de tu análisis: tu habilidad para diagnosticar el problema de raíz usando estadísticas descriptivas y para comunicar la solución de forma clara y convincente.\n",
        "\n"
      ],
      "metadata": {
        "id": "t6nJ1mhXmqvE"
      }
    },
    {
      "cell_type": "code",
      "source": [
        "df.head(2)\n"
      ],
      "metadata": {
        "colab": {
          "base_uri": "https://localhost:8080/",
          "height": 112
        },
        "id": "_-x-8TcNm2gi",
        "outputId": "187d2c4f-fffb-4ea5-be55-4a860274832c"
      },
      "execution_count": 12,
      "outputs": [
        {
          "output_type": "execute_result",
          "data": {
            "text/plain": [
              "  categoria_producto  valor_orden_clp  tiempo_entrega_horas  rating_cliente\n",
              "0               Ropa            13719             15.830132        5.000000\n",
              "1              Hogar            44366             54.690954        4.474369"
            ],
            "text/html": [
              "\n",
              "  <div id=\"df-c7b33cdb-212f-4139-81db-c555aadd59ab\" class=\"colab-df-container\">\n",
              "    <div>\n",
              "<style scoped>\n",
              "    .dataframe tbody tr th:only-of-type {\n",
              "        vertical-align: middle;\n",
              "    }\n",
              "\n",
              "    .dataframe tbody tr th {\n",
              "        vertical-align: top;\n",
              "    }\n",
              "\n",
              "    .dataframe thead th {\n",
              "        text-align: right;\n",
              "    }\n",
              "</style>\n",
              "<table border=\"1\" class=\"dataframe\">\n",
              "  <thead>\n",
              "    <tr style=\"text-align: right;\">\n",
              "      <th></th>\n",
              "      <th>categoria_producto</th>\n",
              "      <th>valor_orden_clp</th>\n",
              "      <th>tiempo_entrega_horas</th>\n",
              "      <th>rating_cliente</th>\n",
              "    </tr>\n",
              "  </thead>\n",
              "  <tbody>\n",
              "    <tr>\n",
              "      <th>0</th>\n",
              "      <td>Ropa</td>\n",
              "      <td>13719</td>\n",
              "      <td>15.830132</td>\n",
              "      <td>5.000000</td>\n",
              "    </tr>\n",
              "    <tr>\n",
              "      <th>1</th>\n",
              "      <td>Hogar</td>\n",
              "      <td>44366</td>\n",
              "      <td>54.690954</td>\n",
              "      <td>4.474369</td>\n",
              "    </tr>\n",
              "  </tbody>\n",
              "</table>\n",
              "</div>\n",
              "    <div class=\"colab-df-buttons\">\n",
              "\n",
              "  <div class=\"colab-df-container\">\n",
              "    <button class=\"colab-df-convert\" onclick=\"convertToInteractive('df-c7b33cdb-212f-4139-81db-c555aadd59ab')\"\n",
              "            title=\"Convert this dataframe to an interactive table.\"\n",
              "            style=\"display:none;\">\n",
              "\n",
              "  <svg xmlns=\"http://www.w3.org/2000/svg\" height=\"24px\" viewBox=\"0 -960 960 960\">\n",
              "    <path d=\"M120-120v-720h720v720H120Zm60-500h600v-160H180v160Zm220 220h160v-160H400v160Zm0 220h160v-160H400v160ZM180-400h160v-160H180v160Zm440 0h160v-160H620v160ZM180-180h160v-160H180v160Zm440 0h160v-160H620v160Z\"/>\n",
              "  </svg>\n",
              "    </button>\n",
              "\n",
              "  <style>\n",
              "    .colab-df-container {\n",
              "      display:flex;\n",
              "      gap: 12px;\n",
              "    }\n",
              "\n",
              "    .colab-df-convert {\n",
              "      background-color: #E8F0FE;\n",
              "      border: none;\n",
              "      border-radius: 50%;\n",
              "      cursor: pointer;\n",
              "      display: none;\n",
              "      fill: #1967D2;\n",
              "      height: 32px;\n",
              "      padding: 0 0 0 0;\n",
              "      width: 32px;\n",
              "    }\n",
              "\n",
              "    .colab-df-convert:hover {\n",
              "      background-color: #E2EBFA;\n",
              "      box-shadow: 0px 1px 2px rgba(60, 64, 67, 0.3), 0px 1px 3px 1px rgba(60, 64, 67, 0.15);\n",
              "      fill: #174EA6;\n",
              "    }\n",
              "\n",
              "    .colab-df-buttons div {\n",
              "      margin-bottom: 4px;\n",
              "    }\n",
              "\n",
              "    [theme=dark] .colab-df-convert {\n",
              "      background-color: #3B4455;\n",
              "      fill: #D2E3FC;\n",
              "    }\n",
              "\n",
              "    [theme=dark] .colab-df-convert:hover {\n",
              "      background-color: #434B5C;\n",
              "      box-shadow: 0px 1px 3px 1px rgba(0, 0, 0, 0.15);\n",
              "      filter: drop-shadow(0px 1px 2px rgba(0, 0, 0, 0.3));\n",
              "      fill: #FFFFFF;\n",
              "    }\n",
              "  </style>\n",
              "\n",
              "    <script>\n",
              "      const buttonEl =\n",
              "        document.querySelector('#df-c7b33cdb-212f-4139-81db-c555aadd59ab button.colab-df-convert');\n",
              "      buttonEl.style.display =\n",
              "        google.colab.kernel.accessAllowed ? 'block' : 'none';\n",
              "\n",
              "      async function convertToInteractive(key) {\n",
              "        const element = document.querySelector('#df-c7b33cdb-212f-4139-81db-c555aadd59ab');\n",
              "        const dataTable =\n",
              "          await google.colab.kernel.invokeFunction('convertToInteractive',\n",
              "                                                    [key], {});\n",
              "        if (!dataTable) return;\n",
              "\n",
              "        const docLinkHtml = 'Like what you see? Visit the ' +\n",
              "          '<a target=\"_blank\" href=https://colab.research.google.com/notebooks/data_table.ipynb>data table notebook</a>'\n",
              "          + ' to learn more about interactive tables.';\n",
              "        element.innerHTML = '';\n",
              "        dataTable['output_type'] = 'display_data';\n",
              "        await google.colab.output.renderOutput(dataTable, element);\n",
              "        const docLink = document.createElement('div');\n",
              "        docLink.innerHTML = docLinkHtml;\n",
              "        element.appendChild(docLink);\n",
              "      }\n",
              "    </script>\n",
              "  </div>\n",
              "\n",
              "\n",
              "    <div id=\"df-77a5e243-0325-4d27-b02b-624ea4faf6bd\">\n",
              "      <button class=\"colab-df-quickchart\" onclick=\"quickchart('df-77a5e243-0325-4d27-b02b-624ea4faf6bd')\"\n",
              "                title=\"Suggest charts\"\n",
              "                style=\"display:none;\">\n",
              "\n",
              "<svg xmlns=\"http://www.w3.org/2000/svg\" height=\"24px\"viewBox=\"0 0 24 24\"\n",
              "     width=\"24px\">\n",
              "    <g>\n",
              "        <path d=\"M19 3H5c-1.1 0-2 .9-2 2v14c0 1.1.9 2 2 2h14c1.1 0 2-.9 2-2V5c0-1.1-.9-2-2-2zM9 17H7v-7h2v7zm4 0h-2V7h2v10zm4 0h-2v-4h2v4z\"/>\n",
              "    </g>\n",
              "</svg>\n",
              "      </button>\n",
              "\n",
              "<style>\n",
              "  .colab-df-quickchart {\n",
              "      --bg-color: #E8F0FE;\n",
              "      --fill-color: #1967D2;\n",
              "      --hover-bg-color: #E2EBFA;\n",
              "      --hover-fill-color: #174EA6;\n",
              "      --disabled-fill-color: #AAA;\n",
              "      --disabled-bg-color: #DDD;\n",
              "  }\n",
              "\n",
              "  [theme=dark] .colab-df-quickchart {\n",
              "      --bg-color: #3B4455;\n",
              "      --fill-color: #D2E3FC;\n",
              "      --hover-bg-color: #434B5C;\n",
              "      --hover-fill-color: #FFFFFF;\n",
              "      --disabled-bg-color: #3B4455;\n",
              "      --disabled-fill-color: #666;\n",
              "  }\n",
              "\n",
              "  .colab-df-quickchart {\n",
              "    background-color: var(--bg-color);\n",
              "    border: none;\n",
              "    border-radius: 50%;\n",
              "    cursor: pointer;\n",
              "    display: none;\n",
              "    fill: var(--fill-color);\n",
              "    height: 32px;\n",
              "    padding: 0;\n",
              "    width: 32px;\n",
              "  }\n",
              "\n",
              "  .colab-df-quickchart:hover {\n",
              "    background-color: var(--hover-bg-color);\n",
              "    box-shadow: 0 1px 2px rgba(60, 64, 67, 0.3), 0 1px 3px 1px rgba(60, 64, 67, 0.15);\n",
              "    fill: var(--button-hover-fill-color);\n",
              "  }\n",
              "\n",
              "  .colab-df-quickchart-complete:disabled,\n",
              "  .colab-df-quickchart-complete:disabled:hover {\n",
              "    background-color: var(--disabled-bg-color);\n",
              "    fill: var(--disabled-fill-color);\n",
              "    box-shadow: none;\n",
              "  }\n",
              "\n",
              "  .colab-df-spinner {\n",
              "    border: 2px solid var(--fill-color);\n",
              "    border-color: transparent;\n",
              "    border-bottom-color: var(--fill-color);\n",
              "    animation:\n",
              "      spin 1s steps(1) infinite;\n",
              "  }\n",
              "\n",
              "  @keyframes spin {\n",
              "    0% {\n",
              "      border-color: transparent;\n",
              "      border-bottom-color: var(--fill-color);\n",
              "      border-left-color: var(--fill-color);\n",
              "    }\n",
              "    20% {\n",
              "      border-color: transparent;\n",
              "      border-left-color: var(--fill-color);\n",
              "      border-top-color: var(--fill-color);\n",
              "    }\n",
              "    30% {\n",
              "      border-color: transparent;\n",
              "      border-left-color: var(--fill-color);\n",
              "      border-top-color: var(--fill-color);\n",
              "      border-right-color: var(--fill-color);\n",
              "    }\n",
              "    40% {\n",
              "      border-color: transparent;\n",
              "      border-right-color: var(--fill-color);\n",
              "      border-top-color: var(--fill-color);\n",
              "    }\n",
              "    60% {\n",
              "      border-color: transparent;\n",
              "      border-right-color: var(--fill-color);\n",
              "    }\n",
              "    80% {\n",
              "      border-color: transparent;\n",
              "      border-right-color: var(--fill-color);\n",
              "      border-bottom-color: var(--fill-color);\n",
              "    }\n",
              "    90% {\n",
              "      border-color: transparent;\n",
              "      border-bottom-color: var(--fill-color);\n",
              "    }\n",
              "  }\n",
              "</style>\n",
              "\n",
              "      <script>\n",
              "        async function quickchart(key) {\n",
              "          const quickchartButtonEl =\n",
              "            document.querySelector('#' + key + ' button');\n",
              "          quickchartButtonEl.disabled = true;  // To prevent multiple clicks.\n",
              "          quickchartButtonEl.classList.add('colab-df-spinner');\n",
              "          try {\n",
              "            const charts = await google.colab.kernel.invokeFunction(\n",
              "                'suggestCharts', [key], {});\n",
              "          } catch (error) {\n",
              "            console.error('Error during call to suggestCharts:', error);\n",
              "          }\n",
              "          quickchartButtonEl.classList.remove('colab-df-spinner');\n",
              "          quickchartButtonEl.classList.add('colab-df-quickchart-complete');\n",
              "        }\n",
              "        (() => {\n",
              "          let quickchartButtonEl =\n",
              "            document.querySelector('#df-77a5e243-0325-4d27-b02b-624ea4faf6bd button');\n",
              "          quickchartButtonEl.style.display =\n",
              "            google.colab.kernel.accessAllowed ? 'block' : 'none';\n",
              "        })();\n",
              "      </script>\n",
              "    </div>\n",
              "\n",
              "    </div>\n",
              "  </div>\n"
            ],
            "application/vnd.google.colaboratory.intrinsic+json": {
              "type": "dataframe",
              "variable_name": "df",
              "summary": "{\n  \"name\": \"df\",\n  \"rows\": 500,\n  \"fields\": [\n    {\n      \"column\": \"categoria_producto\",\n      \"properties\": {\n        \"dtype\": \"category\",\n        \"num_unique_values\": 3,\n        \"samples\": [\n          \"Ropa\",\n          \"Hogar\",\n          \"Electr\\u00f3nica\"\n        ],\n        \"semantic_type\": \"\",\n        \"description\": \"\"\n      }\n    },\n    {\n      \"column\": \"valor_orden_clp\",\n      \"properties\": {\n        \"dtype\": \"number\",\n        \"std\": 117058,\n        \"min\": 2494,\n        \"max\": 663127,\n        \"num_unique_values\": 499,\n        \"samples\": [\n          53678,\n          18919,\n          122687\n        ],\n        \"semantic_type\": \"\",\n        \"description\": \"\"\n      }\n    },\n    {\n      \"column\": \"tiempo_entrega_horas\",\n      \"properties\": {\n        \"dtype\": \"number\",\n        \"std\": 26.640289775423426,\n        \"min\": 14.32889836175889,\n        \"max\": 138.28065286835704,\n        \"num_unique_values\": 500,\n        \"samples\": [\n          62.12057802462611,\n          20.964326510160234,\n          133.851179244179\n        ],\n        \"semantic_type\": \"\",\n        \"description\": \"\"\n      }\n    },\n    {\n      \"column\": \"rating_cliente\",\n      \"properties\": {\n        \"dtype\": \"number\",\n        \"std\": 0.6716596627807141,\n        \"min\": 1.8644221613539367,\n        \"max\": 5.0,\n        \"num_unique_values\": 301,\n        \"samples\": [\n          3.3634827659093065,\n          4.2956517568745065,\n          4.19100477830387\n        ],\n        \"semantic_type\": \"\",\n        \"description\": \"\"\n      }\n    }\n  ]\n}"
            }
          },
          "metadata": {},
          "execution_count": 12
        }
      ]
    },
    {
      "cell_type": "code",
      "source": [
        "from scipy.stats import kurtosis\n",
        "\n",
        "tiempo_ropa = df[(df['categoria_producto']  ==  'Ropa')]['tiempo_entrega_horas']\n",
        "curtosis_ropa = kurtosis(tiempo_ropa)\n",
        "print (f'La Curtosis de el tiempo de entrega de los productos \"Hogar es de {curtosis_hogar} y la Curtosis del tiempo de entrega de la ropa es de {curtosis_ropa}')"
      ],
      "metadata": {
        "id": "fELe1PGt317f"
      },
      "execution_count": null,
      "outputs": []
    },
    {
      "cell_type": "code",
      "source": [
        "media_ropa  = np.mean(tiempo_ropa)\n",
        "mediana_ropa  = np.median(tiempo_ropa)\n",
        "print (f'La media de los tiempos de entrega de la ropa es de {media_ropa} y la mediana es {mediana_ropa}')\n",
        "# Hay una diferencia tremenda, por lo que hay outliers que están alterando nuestros datos, veamoslos en profundidad."
      ],
      "metadata": {
        "colab": {
          "base_uri": "https://localhost:8080/"
        },
        "id": "ydOksG0H4D3C",
        "outputId": "8d4d657f-7627-4f11-b647-9db1955d41cd"
      },
      "execution_count": 15,
      "outputs": [
        {
          "output_type": "stream",
          "name": "stdout",
          "text": [
            "La media de los tiempos de entrega de la ropa es de 42.41287057633244 y la mediana es 24.018245810294047\n"
          ]
        }
      ]
    },
    {
      "cell_type": "code",
      "source": [
        "from scipy.stats import skew\n",
        "asimetria_tiempos_ropa  = skew(tiempo_ropa)\n",
        "curtosis_ropa = kurtosis(tiempo_ropa)\n",
        "print (f'La Curtosis de el tiempo de la ropa es de {curtosis_ropa} y la asimetria es de {asimetria_tiempos_ropa}')"
      ],
      "metadata": {
        "colab": {
          "base_uri": "https://localhost:8080/"
        },
        "id": "7Wo8MSIF4jWc",
        "outputId": "ed09bb41-01e9-4bea-c5c8-1e1d336bd8ca"
      },
      "execution_count": 18,
      "outputs": [
        {
          "output_type": "stream",
          "name": "stdout",
          "text": [
            "La Curtosis de el tiempo de la ropa es de 0.4489169256272727 y la asimetria es de 1.5228266618230297\n"
          ]
        }
      ]
    },
    {
      "cell_type": "code",
      "source": [
        "# En relación a los tiempos de entrega de la ropa, el 50% de las entregas se demoraron 24 horas o menos. Ahora bien, ¿Qué ocurre con el otro 50 %?\n",
        "# Al calcular la asimetria de la distribución de las horas de entrega, nos dimos cuenta de que los datos se concentran en la parte izquierda, pero tenemos algunos valores muy extremos es decir entregas que se demoraron mucho que disparan el promedio de las horas de entrega.\n",
        "#  Gracias a la Kurtosis, sabemos que los datos están concentrados en el centro, pero hay riesgo de que los cisnes negros (como fue ne este caso) alteren los datos, haciendo las colas más pesadas.\n",
        "# Por lo tanto, todo esto apunta a que la experiencia por lo general es buena, nos demoramos como mediana 24 horas, pero hay que analizar qué está pasando con los SKU que se demoran tanto."
      ],
      "metadata": {
        "id": "_rmqcqPV5sGk"
      },
      "execution_count": null,
      "outputs": []
    },
    {
      "cell_type": "code",
      "source": [
        "# ESTO ME FALTÓ, EN LA CORRECCIÓN ME LO DIJERON.\n",
        "import seaborn as sns\n",
        "import matplotlib.pyplot as plt\n",
        "\n",
        "sns.histplot(data=df[df['categoria_producto'] == 'Ropa'], x='tiempo_entrega_horas', kde=True)\n",
        "plt.title('Distribución REAL del Tiempo de Entrega para \"Ropa\"')\n",
        "plt.show()"
      ],
      "metadata": {
        "colab": {
          "base_uri": "https://localhost:8080/",
          "height": 472
        },
        "id": "hmxgTAVU-aHo",
        "outputId": "7d0d3a22-56fe-4834-8d8e-02187f0bf483"
      },
      "execution_count": 19,
      "outputs": [
        {
          "output_type": "display_data",
          "data": {
            "text/plain": [
              "<Figure size 640x480 with 1 Axes>"
            ],
            "image/png": "[encoded data removed]"
          },
          "metadata": {}
        }
      ]
    }
  ]
}